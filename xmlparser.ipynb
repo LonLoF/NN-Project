{
 "cells": [
  {
   "attachments": {},
   "cell_type": "markdown",
   "metadata": {},
   "source": [
    "### downloads all laws as xml and parses them and prints to console"
   ]
  },
  {
   "cell_type": "code",
   "execution_count": null,
   "metadata": {},
   "outputs": [],
   "source": [
    "from bs4 import BeautifulSoup\n",
    "import requests"
   ]
  },
  {
   "cell_type": "code",
   "execution_count": null,
   "metadata": {},
   "outputs": [],
   "source": [
    "url = 'https://www.riigiteataja.ee/lyhendid.html'\n",
    "\n",
    "r = requests.get(url)\n",
    "soup = BeautifulSoup(r.text, 'html.parser')\n",
    "links = soup.find_all('a')\n",
    "\n",
    "law_url = 'https://www.riigiteataja.ee/akt/'\n",
    "law_links = [link for link in links if law_url in link['href']]\n",
    "zipped_law_links = [[x['href'], x.text, y.text] for x, y in zip(law_links[::2], law_links[1::2])]\n",
    "zipped_law_links\n",
    "for link in zipped_law_links:\n",
    "    url = link[0] + '.xml'\n",
    "    response = requests.get(url)\n",
    "    response.encoding = 'utf-8'\n",
    "    law_text = response.text\n",
    "    link.append(law_text)\n",
    "    print(zipped_law_links.index(link), '/', len(zipped_law_links), link[1], 'from:', url)"
   ]
  },
  {
   "cell_type": "code",
   "execution_count": null,
   "metadata": {},
   "outputs": [],
   "source": [
    "import pandas as pd\n",
    "\n",
    "df = pd.DataFrame(zipped_law_links)\n",
    "df.to_csv('law_links.csv')"
   ]
  },
  {
   "cell_type": "code",
   "execution_count": null,
   "metadata": {},
   "outputs": [],
   "source": [
    "import pandas as pd\n",
    "\n",
    "df = pd.read_csv('law_links.csv', names=['link', 'title', 'short-title', 'xml'], header=0, index_col=0)\n",
    "df"
   ]
  },
  {
   "cell_type": "code",
   "execution_count": null,
   "metadata": {},
   "outputs": [],
   "source": [
    "%pip install xmltodict"
   ]
  },
  {
   "cell_type": "code",
   "execution_count": null,
   "metadata": {},
   "outputs": [],
   "source": [
    "import xmltodict\n",
    "import re"
   ]
  },
  {
   "cell_type": "code",
   "execution_count": null,
   "metadata": {},
   "outputs": [],
   "source": [
    "def xml_preprocess(xml):\n",
    "    tag = lambda tag: fr'<({tag}[^>]*)>'\n",
    "    # replace <viide> with <tavatekst> to preserve order as it's used for links in text\n",
    "    # xml = xml.replace('<viide>', '<tavatekst>')\n",
    "    # xml = xml.replace('</viide>', '</tavatekst>')\n",
    "    xml = re.sub(tag('viide'), '<tavatekst>', xml)\n",
    "    xml = re.sub(tag('/viide'), '</tavatekst>', xml)\n",
    "\n",
    "    # remove <i> and </i> tags\n",
    "    # xml = xml.replace('<i>', '')\n",
    "    # xml = xml.replace('</i>', '')\n",
    "    xml = re.sub(tag('i'), '', xml)\n",
    "    xml = re.sub(tag('/i'), '', xml)\n",
    "\n",
    "    # replace <sup> with underscore and remove </sup> tags\n",
    "    # xml = xml.replace('<sup>', '_')\n",
    "    # xml = xml.replace('</sup>', '')\n",
    "    xml = re.sub(tag('sup'), '_', xml)\n",
    "    xml = re.sub(tag('/sup'), '', xml)\n",
    "\n",
    "    # remove <reavahetus/>\n",
    "    # xml = xml.replace('<reavahetus/>', '')\n",
    "    xml = re.sub(tag('reavahetus'), '', xml)\n",
    "\n",
    "    return xmltodict.parse(xml)"
   ]
  },
  {
   "cell_type": "code",
   "execution_count": null,
   "metadata": {},
   "outputs": [],
   "source": [
    "# with open('./109082022006.akt', 'r') as file:\n",
    "#     xml = file.read()\n",
    "#     # replace <viide> with <tavatekst> to preserve order as it's used for links in text\n",
    "#     xml = xml.replace('<viide>', '<tavatekst>')\n",
    "#     xml = xml.replace('</viide>', '</tavatekst>')\n",
    "#     # remove <i> and </i> tags\n",
    "#     xml = xml.replace('<i>', '')\n",
    "#     xml = xml.replace('</i>', '')\n",
    "#     # replace <sup> with underscore and remove </sup> tags\n",
    "#     xml = xml.replace('<sup>', '_')\n",
    "#     xml = xml.replace('</sup>', '')\n",
    "#     # remove <reavahetus/>\n",
    "#     xml = xml.replace('<reavahetus/>', '')\n",
    "#     print(xml)\n",
    "#     data_dict = xmltodict.parse(xml)"
   ]
  },
  {
   "cell_type": "code",
   "execution_count": null,
   "metadata": {},
   "outputs": [],
   "source": [
    "# data_dict['oigusakt']['metaandmed']['lyhend']\n",
    "# data_dict['oigusakt']['metaandmed']['kehtivus']['kehtivuseAlgus']\n",
    "# data_dict['oigusakt']['aktinimi']['nimi']['pealkiri']"
   ]
  },
  {
   "cell_type": "code",
   "execution_count": null,
   "metadata": {},
   "outputs": [],
   "source": [
    "from collections import namedtuple\n",
    "\n",
    "def get_list(d, key):\n",
    "    if key not in d:\n",
    "        return []\n",
    "    if isinstance(d[key], list):\n",
    "        return d[key]\n",
    "    return [d[key]]\n",
    "\n",
    "def get_or_default(d, key, default):\n",
    "    if type(d) is dict:\n",
    "        if key in d:\n",
    "            if d[key] is not None:\n",
    "                return d[key]\n",
    "    return default\n",
    "\n",
    "def get_text(v):\n",
    "    return get_or_default(v, '#text', v)\n",
    "    \n",
    "def get_text_arr(value):\n",
    "    if isinstance(value, list) and len(value) > 0:\n",
    "        values = [get_or_default(v, 'kuvatavTekst', v) for v in value]\n",
    "        values = [get_text(v) for v in values]\n",
    "        values = [v for v in values if v is not None]\n",
    "        if values is not None:\n",
    "            return ''.join(values)\n",
    "    return ''\n",
    "\n",
    "NUMBERING = namedtuple('Numbering', ['inactive', 'nr', 'idx'])\n",
    "def get_numbering(dict, key, ofList):\n",
    "    number = get_or_default(dict, key, ofList.index(dict) + 1)\n",
    "    active = get_or_default(number, '@kehtiv', '1')\n",
    "    numberComplex = get_or_default(number, '#text', number)\n",
    "    numberIndex = get_or_default(number, '@ylaIndeks', '')\n",
    "    if numberComplex is dict:\n",
    "        numberComplex = ofList.index(dict) + 1\n",
    "    return NUMBERING(active == '0', numberComplex, numberIndex)\n",
    "\n",
    "def print_line(depth = 0, group = '', nr = '', nridx = ' ', text = ''):\n",
    "    print('\\t'*depth, group, nr, nridx, text)\n"
   ]
  },
  {
   "cell_type": "code",
   "execution_count": null,
   "metadata": {},
   "outputs": [],
   "source": [
    "def parse_subpoints(subpoints):\n",
    "    for subpoint in subpoints:\n",
    "        subp_n = get_numbering(subpoint, 'alampunktNr', subpoints)\n",
    "        subp_texts = get_or_default(subpoint, 'sisuTekst', {})\n",
    "        subp_text = get_text_arr(get_list(subp_texts, 'tavatekst'))\n",
    "        print_line(6, 'subpoint', subp_n.nr, subp_n.idx, subp_text)\n",
    "        if subp_n.inactive:\n",
    "            continue\n",
    "        get_next(subpoint)\n",
    "        \n",
    "def parse_subparagraphs(subparagraphs):\n",
    "    for subparagraph in subparagraphs:\n",
    "        subpar_n = get_numbering(subparagraph, 'loigeNr', subparagraphs)\n",
    "        subpar_texts = get_or_default(subparagraph, 'sisuTekst', {})\n",
    "        subpar_text = get_text_arr(get_list(subpar_texts, 'tavatekst'))\n",
    "        print_line(5, 'subparagraph', subpar_n.nr, subpar_n.idx, subpar_text)\n",
    "        if subpar_n.inactive:\n",
    "            continue\n",
    "        get_next(subparagraph)\n",
    "\n",
    "def parse_paragraphs(paragraphs):\n",
    "    for paragraph in paragraphs:\n",
    "        par_n = get_numbering(paragraph, 'paragrahvNr', paragraphs)\n",
    "        par_title = get_or_default(paragraph, 'paragrahvPealkiri', 'none')\n",
    "        par_title = get_text(par_title)\n",
    "        # par_title = get_or_default(par_title, '#text', par_title)\n",
    "        print_line(4, 'paragraph', par_n.nr, par_n.idx, par_title)\n",
    "        if par_n.inactive:\n",
    "            continue\n",
    "        get_next(paragraph)\n",
    "    \n",
    "def parse_sections(sections):\n",
    "    for section in sections:\n",
    "        sect_n = get_numbering(section, 'jaguNr', sections)\n",
    "        sect_title = get_or_default(section, 'jaguPealkiri', 'none')\n",
    "        sect_title = get_text(sect_title)\n",
    "        # sect_title = get_or_default(sect_title, '#text', sect_title)\n",
    "        print_line(3, 'section', sect_n.nr, sect_n.idx, sect_title)\n",
    "        if sect_n.inactive:\n",
    "            continue\n",
    "        get_next(section)\n",
    "        \n",
    "def parse_chapters(chapters):\n",
    "    for chapter in chapters:\n",
    "        ch_n = get_numbering(chapter, 'peatykkNr', chapters)\n",
    "        ch_title = get_or_default(chapter, 'peatykkPealkiri', 'none')\n",
    "        ch_title = get_text(ch_title)\n",
    "        # ch_title = get_or_default(ch_title, '#text', ch_title)\n",
    "        print_line(2, 'chapter', ch_n.nr, ch_n.idx, ch_title)\n",
    "        if ch_n.inactive:\n",
    "            continue\n",
    "        get_next(chapter)\n",
    "\n",
    "def parse_parts(parts):\n",
    "    for part in parts:\n",
    "        part_n = get_numbering(part, 'osaNr', parts)\n",
    "        partTitle = get_or_default(part, 'osaPealkiri', 'none')\n",
    "        partTitle = get_text(partTitle)\n",
    "        print_line(1, 'part', part_n.nr, part_n.idx, partTitle)\n",
    "        if part_n.inactive:\n",
    "            continue\n",
    "        get_next(part)\n",
    "\n",
    "KEYS = ['osa', 'peatykk', 'jagu', 'paragrahv', 'loige', 'alampunkt']\n",
    "PARSERS = [parse_parts, parse_chapters, parse_sections, parse_paragraphs, parse_subparagraphs, parse_subpoints]\n",
    "\n",
    "def get_next(d):\n",
    "    for idx, key in enumerate(KEYS):\n",
    "        if key in d:\n",
    "            PARSERS[idx](get_list(d, key))"
   ]
  },
  {
   "cell_type": "code",
   "execution_count": null,
   "metadata": {},
   "outputs": [],
   "source": [
    "#prints all to console, doesn't do anything\n",
    "#should include everything except Riiklike elatusrahade seadus (lühend - RERS) (it doesn't have proper xml formatting) \n",
    "for idx, row in df.iterrows():\n",
    "    print('--------------------------------------')\n",
    "    print(row['title'])\n",
    "    get_next(xml_preprocess(row['xml'])['oigusakt']['sisu'])"
   ]
  },
  {
   "cell_type": "code",
   "execution_count": null,
   "metadata": {},
   "outputs": [],
   "source": []
  }
 ],
 "metadata": {
  "kernelspec": {
   "display_name": "nn2023",
   "language": "python",
   "name": "python3"
  },
  "language_info": {
   "codemirror_mode": {
    "name": "ipython",
    "version": 3
   },
   "file_extension": ".py",
   "mimetype": "text/x-python",
   "name": "python",
   "nbconvert_exporter": "python",
   "pygments_lexer": "ipython3",
   "version": "3.10.9"
  },
  "orig_nbformat": 4
 },
 "nbformat": 4,
 "nbformat_minor": 2
}
