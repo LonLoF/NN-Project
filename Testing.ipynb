{
 "cells": [
  {
   "cell_type": "code",
   "execution_count": 2,
   "id": "c4d5e9f1",
   "metadata": {},
   "outputs": [],
   "source": [
    "# imports\n",
    "#!pip install tables\n",
    "#!pip install fastparquet\n",
    "from fastparquet import write\n",
    "\n",
    "from tables import *\n",
    "import openai  # for generating embeddings\n",
    "import pandas as pd  # for DataFrames to store article sections and embeddings\n",
    "import re  # for cutting <ref> links out of Wikipedia articles\n",
    "import tiktoken  # for counting tokens\n",
    "import numpy as np\n",
    "from dotenv import dotenv_values"
   ]
  },
  {
   "cell_type": "code",
   "execution_count": 236,
   "id": "486c3cda",
   "metadata": {},
   "outputs": [],
   "source": [
    "#To use embeddings you must create an .env file where the content is OPENAI_API_KEY = \"your-api-key\"\n",
    "config = dotenv_values(\".env\")[\"OPENAI_API_KEY\"]\n",
    "openai.organization = \"org-3O7bHGD9SwjHVDuUCNCGACC3\"\n",
    "openai.api_key = config"
   ]
  },
  {
   "cell_type": "code",
   "execution_count": null,
   "id": "8ded640a",
   "metadata": {},
   "outputs": [],
   "source": []
  },
  {
   "cell_type": "code",
   "execution_count": 237,
   "id": "a94e28f8",
   "metadata": {},
   "outputs": [],
   "source": [
    "df = pd.read_csv(\"legal_acts_estonia.csv\", names=['type', 'nr','text','link'])"
   ]
  },
  {
   "cell_type": "code",
   "execution_count": 238,
   "id": "d3f06730",
   "metadata": {},
   "outputs": [
    {
     "data": {
      "text/html": [
       "<div>\n",
       "<style scoped>\n",
       "    .dataframe tbody tr th:only-of-type {\n",
       "        vertical-align: middle;\n",
       "    }\n",
       "\n",
       "    .dataframe tbody tr th {\n",
       "        vertical-align: top;\n",
       "    }\n",
       "\n",
       "    .dataframe thead th {\n",
       "        text-align: right;\n",
       "    }\n",
       "</style>\n",
       "<table border=\"1\" class=\"dataframe\">\n",
       "  <thead>\n",
       "    <tr style=\"text-align: right;\">\n",
       "      <th></th>\n",
       "      <th>type</th>\n",
       "      <th>nr</th>\n",
       "      <th>text</th>\n",
       "      <th>link</th>\n",
       "    </tr>\n",
       "  </thead>\n",
       "  <tbody>\n",
       "    <tr>\n",
       "      <th>0</th>\n",
       "      <td>VVS</td>\n",
       "      <td>para1</td>\n",
       "      <td>§ 1.\\nVabariigi Valitsuse pädevus\\n(1) Vabarii...</td>\n",
       "      <td>https://www.riigiteataja.ee/akt/VVS#para1</td>\n",
       "    </tr>\n",
       "    <tr>\n",
       "      <th>1</th>\n",
       "      <td>VVS</td>\n",
       "      <td>para2</td>\n",
       "      <td>§ 2.\\nVabariigi Valitsuse asukoht\\nVabariigi V...</td>\n",
       "      <td>https://www.riigiteataja.ee/akt/VVS#para2</td>\n",
       "    </tr>\n",
       "    <tr>\n",
       "      <th>2</th>\n",
       "      <td>VVS</td>\n",
       "      <td>para3</td>\n",
       "      <td>§ 3.\\nVabariigi Valitsuse liikmed\\n(1) Vabarii...</td>\n",
       "      <td>https://www.riigiteataja.ee/akt/VVS#para3</td>\n",
       "    </tr>\n",
       "    <tr>\n",
       "      <th>3</th>\n",
       "      <td>VVS</td>\n",
       "      <td>para3b1</td>\n",
       "      <td>§ 3.1.\\nVabariigi Valitsuse liikme juurdepääs ...</td>\n",
       "      <td>https://www.riigiteataja.ee/akt/VVS#para3b1</td>\n",
       "    </tr>\n",
       "    <tr>\n",
       "      <th>4</th>\n",
       "      <td>VVS</td>\n",
       "      <td>para4</td>\n",
       "      <td>§ 4.\\nVabariigi Valitsuse liikmete tööülesanne...</td>\n",
       "      <td>https://www.riigiteataja.ee/akt/VVS#para4</td>\n",
       "    </tr>\n",
       "    <tr>\n",
       "      <th>...</th>\n",
       "      <td>...</td>\n",
       "      <td>...</td>\n",
       "      <td>...</td>\n",
       "      <td>...</td>\n",
       "    </tr>\n",
       "    <tr>\n",
       "      <th>32784</th>\n",
       "      <td>NaN</td>\n",
       "      <td>para7</td>\n",
       "      <td>§ 7.\\nKaitsekulu\\nKaitsekulu on NATO meetodi j...</td>\n",
       "      <td>https://www.riigiteataja.ee/akt/#para7</td>\n",
       "    </tr>\n",
       "    <tr>\n",
       "      <th>32785</th>\n",
       "      <td>NaN</td>\n",
       "      <td>para8</td>\n",
       "      <td>§ 8.\\nEesti Haigekassa eelarvepositsioon\\nEest...</td>\n",
       "      <td>https://www.riigiteataja.ee/akt/#para8</td>\n",
       "    </tr>\n",
       "    <tr>\n",
       "      <th>32786</th>\n",
       "      <td>NaN</td>\n",
       "      <td>para9</td>\n",
       "      <td>§ 9.\\nEelarveaasta jooksul riigiteede üleandmi...</td>\n",
       "      <td>https://www.riigiteataja.ee/akt/#para9</td>\n",
       "    </tr>\n",
       "    <tr>\n",
       "      <th>32787</th>\n",
       "      <td>NaN</td>\n",
       "      <td>para10</td>\n",
       "      <td>§ 10.\\nTapa spordi- ja vabaajakeskuse ehituse ...</td>\n",
       "      <td>https://www.riigiteataja.ee/akt/#para10</td>\n",
       "    </tr>\n",
       "    <tr>\n",
       "      <th>32788</th>\n",
       "      <td>NaN</td>\n",
       "      <td>para11</td>\n",
       "      <td>§ 11.\\nTulude laekumise korralduse erisus\\n(1)...</td>\n",
       "      <td>https://www.riigiteataja.ee/akt/#para11</td>\n",
       "    </tr>\n",
       "  </tbody>\n",
       "</table>\n",
       "<p>32789 rows × 4 columns</p>\n",
       "</div>"
      ],
      "text/plain": [
       "      type       nr                                               text  \\\n",
       "0      VVS    para1  § 1.\\nVabariigi Valitsuse pädevus\\n(1) Vabarii...   \n",
       "1      VVS    para2  § 2.\\nVabariigi Valitsuse asukoht\\nVabariigi V...   \n",
       "2      VVS    para3  § 3.\\nVabariigi Valitsuse liikmed\\n(1) Vabarii...   \n",
       "3      VVS  para3b1  § 3.1.\\nVabariigi Valitsuse liikme juurdepääs ...   \n",
       "4      VVS    para4  § 4.\\nVabariigi Valitsuse liikmete tööülesanne...   \n",
       "...    ...      ...                                                ...   \n",
       "32784  NaN    para7  § 7.\\nKaitsekulu\\nKaitsekulu on NATO meetodi j...   \n",
       "32785  NaN    para8  § 8.\\nEesti Haigekassa eelarvepositsioon\\nEest...   \n",
       "32786  NaN    para9  § 9.\\nEelarveaasta jooksul riigiteede üleandmi...   \n",
       "32787  NaN   para10  § 10.\\nTapa spordi- ja vabaajakeskuse ehituse ...   \n",
       "32788  NaN   para11  § 11.\\nTulude laekumise korralduse erisus\\n(1)...   \n",
       "\n",
       "                                              link  \n",
       "0        https://www.riigiteataja.ee/akt/VVS#para1  \n",
       "1        https://www.riigiteataja.ee/akt/VVS#para2  \n",
       "2        https://www.riigiteataja.ee/akt/VVS#para3  \n",
       "3      https://www.riigiteataja.ee/akt/VVS#para3b1  \n",
       "4        https://www.riigiteataja.ee/akt/VVS#para4  \n",
       "...                                            ...  \n",
       "32784       https://www.riigiteataja.ee/akt/#para7  \n",
       "32785       https://www.riigiteataja.ee/akt/#para8  \n",
       "32786       https://www.riigiteataja.ee/akt/#para9  \n",
       "32787      https://www.riigiteataja.ee/akt/#para10  \n",
       "32788      https://www.riigiteataja.ee/akt/#para11  \n",
       "\n",
       "[32789 rows x 4 columns]"
      ]
     },
     "execution_count": 238,
     "metadata": {},
     "output_type": "execute_result"
    }
   ],
   "source": [
    "df"
   ]
  },
  {
   "cell_type": "code",
   "execution_count": 239,
   "id": "b59c6b2d",
   "metadata": {
    "scrolled": true
   },
   "outputs": [
    {
     "data": {
      "text/plain": [
       "'§\\xa01.\\nVabariigi Valitsuse pädevus\\n(1) Vabariigi Valitsus teostab täidesaatvat riigivõimu Eesti Vabariigi põhiseaduse ja seaduste alusel.\\n(2) Vabariigi Valitsus teostab täidesaatvat riigivõimu vahetult või valitsusasutuste kaudu.\\n'"
      ]
     },
     "execution_count": 239,
     "metadata": {},
     "output_type": "execute_result"
    }
   ],
   "source": [
    "df[\"text\"][0]"
   ]
  },
  {
   "cell_type": "code",
   "execution_count": 240,
   "id": "aeadfa64",
   "metadata": {},
   "outputs": [],
   "source": [
    "df[\"title\"] = df[\"text\"].str.split(\"\\n\").str[1]\n",
    "df[\"text\"] = df[\"text\"].str.split(\"\\n\").apply(lambda x: ','.join(x[2:]))"
   ]
  },
  {
   "cell_type": "code",
   "execution_count": 241,
   "id": "11322de5",
   "metadata": {},
   "outputs": [],
   "source": [
    "df[\"text\"] = df[\"text\"].str.replace('\\n','')"
   ]
  },
  {
   "cell_type": "code",
   "execution_count": 242,
   "id": "40b7b139",
   "metadata": {},
   "outputs": [],
   "source": [
    "#have to split up to have less than 1600 words\n",
    "df['split_text'] = df['text'].str.split(r'\\(\\d+\\)')\n"
   ]
  },
  {
   "cell_type": "code",
   "execution_count": 243,
   "id": "4677c87d",
   "metadata": {
    "scrolled": true
   },
   "outputs": [
    {
     "data": {
      "text/plain": [
       "['',\n",
       " ' Vabariigi Valitsus teostab täidesaatvat riigivõimu Eesti Vabariigi põhiseaduse ja seaduste alusel.,',\n",
       " ' Vabariigi Valitsus teostab täidesaatvat riigivõimu vahetult või valitsusasutuste kaudu.,']"
      ]
     },
     "execution_count": 243,
     "metadata": {},
     "output_type": "execute_result"
    }
   ],
   "source": [
    "df[\"split_text\"][0]"
   ]
  },
  {
   "cell_type": "code",
   "execution_count": 244,
   "id": "e62e576a",
   "metadata": {
    "scrolled": true
   },
   "outputs": [],
   "source": [
    "df = df.explode(\"split_text\")"
   ]
  },
  {
   "cell_type": "code",
   "execution_count": 245,
   "id": "6c09a091",
   "metadata": {},
   "outputs": [],
   "source": [
    "df = df[df[\"split_text\"]!= \"\"]"
   ]
  },
  {
   "cell_type": "code",
   "execution_count": 246,
   "id": "8e8f02f3",
   "metadata": {},
   "outputs": [],
   "source": [
    "def count_words(text):\n",
    "    return len(text.split())\n",
    "df['word_count'] = df['split_text'].apply(count_words)"
   ]
  },
  {
   "cell_type": "code",
   "execution_count": 247,
   "id": "928781a2",
   "metadata": {},
   "outputs": [],
   "source": [
    "df_cut = df[[\"type\",\"nr\",\"link\",\"title\",\"split_text\"]]\n",
    "GPT_MODEL = \"gpt-3.5-turbo\"  # only matters insofar as it selects which tokenizer to use\n",
    "EMBEDDING_MODEL = \"text-embedding-ada-002\""
   ]
  },
  {
   "cell_type": "code",
   "execution_count": 249,
   "id": "9108e98e",
   "metadata": {
    "scrolled": true
   },
   "outputs": [
    {
     "name": "stderr",
     "output_type": "stream",
     "text": [
      "C:\\Users\\annilo\\AppData\\Local\\Temp\\ipykernel_16368\\1343037904.py:2: FutureWarning: The default value of regex will change from True to False in a future version.\n",
      "  df[\"concatenated\"] = df[\"concatenated\"].str.replace(r'\\s+', ' ').str.rstrip(\",\")\n"
     ]
    }
   ],
   "source": [
    "df[\"concatenated\"] = df[\"title\"]+ \" \"+ df[\"split_text\"]\n",
    "df[\"concatenated\"] = df[\"concatenated\"].str.replace(r'\\s+', ' ').str.rstrip(\",\")\n"
   ]
  },
  {
   "cell_type": "code",
   "execution_count": 253,
   "id": "48e3b9c6",
   "metadata": {},
   "outputs": [],
   "source": [
    "df_less= df[df[\"word_count\"]<500]"
   ]
  },
  {
   "cell_type": "code",
   "execution_count": 259,
   "id": "0b062103",
   "metadata": {},
   "outputs": [],
   "source": [
    "laws = np.array(df_less[\"concatenated\"])\n",
    "#laws = laws[:10000]"
   ]
  },
  {
   "cell_type": "code",
   "execution_count": null,
   "id": "d870fc21",
   "metadata": {},
   "outputs": [],
   "source": [
    "# calculate embeddings\n",
    "\n",
    "##\n",
    "##DO NOT RUN UNLESS NEED TO CREATE NEW EMBEDDINGS (THIS CODE COSTS ABT 2 DOLLARS)\n",
    "\n",
    "#EMBEDDING_MODEL = \"text-embedding-ada-002\"  # OpenAI's best embeddings as of Apr 2023\n",
    "#BATCH_SIZE = 1000  # you can submit up to 2048 embedding inputs per request\n",
    "#\n",
    "#wikipedia_strings = laws.tolist()\n",
    "#\n",
    "#embeddings = []\n",
    "#for batch_start in range(0, len(wikipedia_strings), BATCH_SIZE):\n",
    "#    batch_end = batch_start + BATCH_SIZE\n",
    "#    batch = wikipedia_strings[batch_start:batch_end]\n",
    "#    print(f\"Batch {batch_start} to {batch_end-1}\")\n",
    "#    response = openai.Embedding.create(model=EMBEDDING_MODEL, input=batch)\n",
    "#    for i, be in enumerate(response[\"data\"]):\n",
    "#        assert i == be[\"index\"]  # double check embeddings are in same order as input\n",
    "#    batch_embeddings = [e[\"embedding\"] for e in response[\"data\"]]\n",
    "#    embeddings.extend(batch_embeddings)\n",
    "#\n",
    "#df = pd.DataFrame({\"text\": wikipedia_strings, \"embedding\": embeddings})"
   ]
  },
  {
   "cell_type": "code",
   "execution_count": null,
   "id": "7f479eb1",
   "metadata": {},
   "outputs": [],
   "source": [
    "#df['text'] = df['text'].astype('str')\n",
    "#df['embedding'] = df['embedding'].astype('str')"
   ]
  },
  {
   "cell_type": "code",
   "execution_count": 8,
   "id": "19d9f77d",
   "metadata": {
    "scrolled": true
   },
   "outputs": [],
   "source": [
    "#otherwise loading is super slow\n",
    "#df.to_hdf(r'embeddedfile_2.h5', key='stage', mode='w')"
   ]
  },
  {
   "cell_type": "code",
   "execution_count": 3,
   "id": "ff6683ef",
   "metadata": {},
   "outputs": [],
   "source": [
    "#reread = pd.read_hdf('./embeddedfile.h5')  "
   ]
  },
  {
   "cell_type": "code",
   "execution_count": 6,
   "id": "b944f97e",
   "metadata": {},
   "outputs": [],
   "source": [
    "#reread = reread[:1000]"
   ]
  },
  {
   "cell_type": "code",
   "execution_count": 7,
   "id": "7688e753",
   "metadata": {},
   "outputs": [],
   "source": [
    "#reread.to_csv(\"sample_embeddings.csv\")"
   ]
  },
  {
   "cell_type": "code",
   "execution_count": null,
   "id": "e25178f7",
   "metadata": {},
   "outputs": [],
   "source": []
  }
 ],
 "metadata": {
  "kernelspec": {
   "display_name": "Python 3 (ipykernel)",
   "language": "python",
   "name": "python3"
  },
  "language_info": {
   "codemirror_mode": {
    "name": "ipython",
    "version": 3
   },
   "file_extension": ".py",
   "mimetype": "text/x-python",
   "name": "python",
   "nbconvert_exporter": "python",
   "pygments_lexer": "ipython3",
   "version": "3.10.9"
  }
 },
 "nbformat": 4,
 "nbformat_minor": 5
}
