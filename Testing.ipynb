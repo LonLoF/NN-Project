{
 "cells": [
  {
   "cell_type": "code",
   "execution_count": 129,
   "id": "c4d5e9f1",
   "metadata": {},
   "outputs": [],
   "source": [
    "# imports\n",
    "\n",
    "import openai  # for generating embeddings\n",
    "import pandas as pd  # for DataFrames to store article sections and embeddings\n",
    "import re  # for cutting <ref> links out of Wikipedia articles\n",
    "import tiktoken  # for counting tokens"
   ]
  },
  {
   "cell_type": "code",
   "execution_count": 150,
   "id": "a94e28f8",
   "metadata": {},
   "outputs": [],
   "source": [
    "df = pd.read_csv(\"legal_acts_estonia.csv\", names=['type', 'nr','text','link'])"
   ]
  },
  {
   "cell_type": "code",
   "execution_count": 151,
   "id": "d3f06730",
   "metadata": {},
   "outputs": [
    {
     "data": {
      "text/html": [
       "<div>\n",
       "<style scoped>\n",
       "    .dataframe tbody tr th:only-of-type {\n",
       "        vertical-align: middle;\n",
       "    }\n",
       "\n",
       "    .dataframe tbody tr th {\n",
       "        vertical-align: top;\n",
       "    }\n",
       "\n",
       "    .dataframe thead th {\n",
       "        text-align: right;\n",
       "    }\n",
       "</style>\n",
       "<table border=\"1\" class=\"dataframe\">\n",
       "  <thead>\n",
       "    <tr style=\"text-align: right;\">\n",
       "      <th></th>\n",
       "      <th>type</th>\n",
       "      <th>nr</th>\n",
       "      <th>text</th>\n",
       "      <th>link</th>\n",
       "    </tr>\n",
       "  </thead>\n",
       "  <tbody>\n",
       "    <tr>\n",
       "      <th>0</th>\n",
       "      <td>VVS</td>\n",
       "      <td>para1</td>\n",
       "      <td>§ 1.\\nVabariigi Valitsuse pädevus\\n(1) Vabarii...</td>\n",
       "      <td>https://www.riigiteataja.ee/akt/VVS#para1</td>\n",
       "    </tr>\n",
       "    <tr>\n",
       "      <th>1</th>\n",
       "      <td>VVS</td>\n",
       "      <td>para2</td>\n",
       "      <td>§ 2.\\nVabariigi Valitsuse asukoht\\nVabariigi V...</td>\n",
       "      <td>https://www.riigiteataja.ee/akt/VVS#para2</td>\n",
       "    </tr>\n",
       "    <tr>\n",
       "      <th>2</th>\n",
       "      <td>VVS</td>\n",
       "      <td>para3</td>\n",
       "      <td>§ 3.\\nVabariigi Valitsuse liikmed\\n(1) Vabarii...</td>\n",
       "      <td>https://www.riigiteataja.ee/akt/VVS#para3</td>\n",
       "    </tr>\n",
       "    <tr>\n",
       "      <th>3</th>\n",
       "      <td>VVS</td>\n",
       "      <td>para3b1</td>\n",
       "      <td>§ 3.1.\\nVabariigi Valitsuse liikme juurdepääs ...</td>\n",
       "      <td>https://www.riigiteataja.ee/akt/VVS#para3b1</td>\n",
       "    </tr>\n",
       "    <tr>\n",
       "      <th>4</th>\n",
       "      <td>VVS</td>\n",
       "      <td>para4</td>\n",
       "      <td>§ 4.\\nVabariigi Valitsuse liikmete tööülesanne...</td>\n",
       "      <td>https://www.riigiteataja.ee/akt/VVS#para4</td>\n",
       "    </tr>\n",
       "    <tr>\n",
       "      <th>...</th>\n",
       "      <td>...</td>\n",
       "      <td>...</td>\n",
       "      <td>...</td>\n",
       "      <td>...</td>\n",
       "    </tr>\n",
       "    <tr>\n",
       "      <th>32784</th>\n",
       "      <td>NaN</td>\n",
       "      <td>para7</td>\n",
       "      <td>§ 7.\\nKaitsekulu\\nKaitsekulu on NATO meetodi j...</td>\n",
       "      <td>https://www.riigiteataja.ee/akt/#para7</td>\n",
       "    </tr>\n",
       "    <tr>\n",
       "      <th>32785</th>\n",
       "      <td>NaN</td>\n",
       "      <td>para8</td>\n",
       "      <td>§ 8.\\nEesti Haigekassa eelarvepositsioon\\nEest...</td>\n",
       "      <td>https://www.riigiteataja.ee/akt/#para8</td>\n",
       "    </tr>\n",
       "    <tr>\n",
       "      <th>32786</th>\n",
       "      <td>NaN</td>\n",
       "      <td>para9</td>\n",
       "      <td>§ 9.\\nEelarveaasta jooksul riigiteede üleandmi...</td>\n",
       "      <td>https://www.riigiteataja.ee/akt/#para9</td>\n",
       "    </tr>\n",
       "    <tr>\n",
       "      <th>32787</th>\n",
       "      <td>NaN</td>\n",
       "      <td>para10</td>\n",
       "      <td>§ 10.\\nTapa spordi- ja vabaajakeskuse ehituse ...</td>\n",
       "      <td>https://www.riigiteataja.ee/akt/#para10</td>\n",
       "    </tr>\n",
       "    <tr>\n",
       "      <th>32788</th>\n",
       "      <td>NaN</td>\n",
       "      <td>para11</td>\n",
       "      <td>§ 11.\\nTulude laekumise korralduse erisus\\n(1)...</td>\n",
       "      <td>https://www.riigiteataja.ee/akt/#para11</td>\n",
       "    </tr>\n",
       "  </tbody>\n",
       "</table>\n",
       "<p>32789 rows × 4 columns</p>\n",
       "</div>"
      ],
      "text/plain": [
       "      type       nr                                               text  \\\n",
       "0      VVS    para1  § 1.\\nVabariigi Valitsuse pädevus\\n(1) Vabarii...   \n",
       "1      VVS    para2  § 2.\\nVabariigi Valitsuse asukoht\\nVabariigi V...   \n",
       "2      VVS    para3  § 3.\\nVabariigi Valitsuse liikmed\\n(1) Vabarii...   \n",
       "3      VVS  para3b1  § 3.1.\\nVabariigi Valitsuse liikme juurdepääs ...   \n",
       "4      VVS    para4  § 4.\\nVabariigi Valitsuse liikmete tööülesanne...   \n",
       "...    ...      ...                                                ...   \n",
       "32784  NaN    para7  § 7.\\nKaitsekulu\\nKaitsekulu on NATO meetodi j...   \n",
       "32785  NaN    para8  § 8.\\nEesti Haigekassa eelarvepositsioon\\nEest...   \n",
       "32786  NaN    para9  § 9.\\nEelarveaasta jooksul riigiteede üleandmi...   \n",
       "32787  NaN   para10  § 10.\\nTapa spordi- ja vabaajakeskuse ehituse ...   \n",
       "32788  NaN   para11  § 11.\\nTulude laekumise korralduse erisus\\n(1)...   \n",
       "\n",
       "                                              link  \n",
       "0        https://www.riigiteataja.ee/akt/VVS#para1  \n",
       "1        https://www.riigiteataja.ee/akt/VVS#para2  \n",
       "2        https://www.riigiteataja.ee/akt/VVS#para3  \n",
       "3      https://www.riigiteataja.ee/akt/VVS#para3b1  \n",
       "4        https://www.riigiteataja.ee/akt/VVS#para4  \n",
       "...                                            ...  \n",
       "32784       https://www.riigiteataja.ee/akt/#para7  \n",
       "32785       https://www.riigiteataja.ee/akt/#para8  \n",
       "32786       https://www.riigiteataja.ee/akt/#para9  \n",
       "32787      https://www.riigiteataja.ee/akt/#para10  \n",
       "32788      https://www.riigiteataja.ee/akt/#para11  \n",
       "\n",
       "[32789 rows x 4 columns]"
      ]
     },
     "execution_count": 151,
     "metadata": {},
     "output_type": "execute_result"
    }
   ],
   "source": [
    "df"
   ]
  },
  {
   "cell_type": "code",
   "execution_count": 152,
   "id": "b59c6b2d",
   "metadata": {
    "scrolled": true
   },
   "outputs": [
    {
     "data": {
      "text/plain": [
       "'§\\xa01.\\nVabariigi Valitsuse pädevus\\n(1) Vabariigi Valitsus teostab täidesaatvat riigivõimu Eesti Vabariigi põhiseaduse ja seaduste alusel.\\n(2) Vabariigi Valitsus teostab täidesaatvat riigivõimu vahetult või valitsusasutuste kaudu.\\n'"
      ]
     },
     "execution_count": 152,
     "metadata": {},
     "output_type": "execute_result"
    }
   ],
   "source": [
    "df[\"text\"][0]"
   ]
  },
  {
   "cell_type": "code",
   "execution_count": 153,
   "id": "aeadfa64",
   "metadata": {},
   "outputs": [],
   "source": [
    "df[\"title\"] = df[\"text\"].str.split(\"\\n\").str[1]\n",
    "df[\"text\"] = df[\"text\"].str.split(\"\\n\").apply(lambda x: ','.join(x[2:]))"
   ]
  },
  {
   "cell_type": "code",
   "execution_count": 154,
   "id": "11322de5",
   "metadata": {},
   "outputs": [],
   "source": [
    "df[\"text\"] = df[\"text\"].str.replace('\\n','')"
   ]
  },
  {
   "cell_type": "code",
   "execution_count": 155,
   "id": "40b7b139",
   "metadata": {},
   "outputs": [],
   "source": [
    "#have to split up to have less than 1600 words\n",
    "df['split_text'] = df['text'].str.split(r'\\(\\d+\\)')\n"
   ]
  },
  {
   "cell_type": "code",
   "execution_count": 156,
   "id": "4677c87d",
   "metadata": {
    "scrolled": true
   },
   "outputs": [
    {
     "data": {
      "text/plain": [
       "['',\n",
       " ' Vabariigi Valitsus teostab täidesaatvat riigivõimu Eesti Vabariigi põhiseaduse ja seaduste alusel.,',\n",
       " ' Vabariigi Valitsus teostab täidesaatvat riigivõimu vahetult või valitsusasutuste kaudu.,']"
      ]
     },
     "execution_count": 156,
     "metadata": {},
     "output_type": "execute_result"
    }
   ],
   "source": [
    "df[\"split_text\"][0]"
   ]
  },
  {
   "cell_type": "code",
   "execution_count": 157,
   "id": "e62e576a",
   "metadata": {
    "scrolled": true
   },
   "outputs": [],
   "source": [
    "df = df.explode(\"split_text\")"
   ]
  },
  {
   "cell_type": "code",
   "execution_count": 158,
   "id": "6c09a091",
   "metadata": {},
   "outputs": [],
   "source": [
    "df = df[df[\"split_text\"]!= \"\"]"
   ]
  },
  {
   "cell_type": "code",
   "execution_count": 159,
   "id": "8e8f02f3",
   "metadata": {},
   "outputs": [],
   "source": [
    "def count_words(text):\n",
    "    return len(text.split())\n",
    "df['word_count'] = df['split_text'].apply(count_words)"
   ]
  },
  {
   "cell_type": "code",
   "execution_count": 163,
   "id": "94365ac3",
   "metadata": {},
   "outputs": [
    {
     "data": {
      "text/html": [
       "<div>\n",
       "<style scoped>\n",
       "    .dataframe tbody tr th:only-of-type {\n",
       "        vertical-align: middle;\n",
       "    }\n",
       "\n",
       "    .dataframe tbody tr th {\n",
       "        vertical-align: top;\n",
       "    }\n",
       "\n",
       "    .dataframe thead th {\n",
       "        text-align: right;\n",
       "    }\n",
       "</style>\n",
       "<table border=\"1\" class=\"dataframe\">\n",
       "  <thead>\n",
       "    <tr style=\"text-align: right;\">\n",
       "      <th></th>\n",
       "      <th>type</th>\n",
       "      <th>nr</th>\n",
       "      <th>text</th>\n",
       "      <th>link</th>\n",
       "      <th>title</th>\n",
       "      <th>split_text</th>\n",
       "      <th>word_count</th>\n",
       "    </tr>\n",
       "  </thead>\n",
       "  <tbody>\n",
       "    <tr>\n",
       "      <th>4917</th>\n",
       "      <td>TuMS</td>\n",
       "      <td>para13</td>\n",
       "      <td>(1) Tulumaksuga maksustatakse kõik töö eest sa...</td>\n",
       "      <td>https://www.riigiteataja.ee/akt/TuMS#para13</td>\n",
       "      <td>Palgatulu</td>\n",
       "      <td>Tulumaksuga ei maksustata:,1) ametnikule, töö...</td>\n",
       "      <td>1059</td>\n",
       "    </tr>\n",
       "    <tr>\n",
       "      <th>16672</th>\n",
       "      <td>MSOS</td>\n",
       "      <td>para2</td>\n",
       "      <td>Käesoleva seaduse tähenduses on:,1) veesõiduk ...</td>\n",
       "      <td>https://www.riigiteataja.ee/akt/MSOS#para2</td>\n",
       "      <td>Mõisted</td>\n",
       "      <td>Käesoleva seaduse tähenduses on:,1) veesõiduk ...</td>\n",
       "      <td>1436</td>\n",
       "    </tr>\n",
       "    <tr>\n",
       "      <th>17195</th>\n",
       "      <td>MKS</td>\n",
       "      <td>para29</td>\n",
       "      <td>[RT I, 23.03.2017, 1 - jõust. 01.04.2017],Maks...</td>\n",
       "      <td>https://www.riigiteataja.ee/akt/MKS#para29</td>\n",
       "      <td>Maksusaladust sisaldava teabe avaldamine</td>\n",
       "      <td>[RT I, 23.03.2017, 1 - jõust. 01.04.2017],Maks...</td>\n",
       "      <td>1840</td>\n",
       "    </tr>\n",
       "    <tr>\n",
       "      <th>18195</th>\n",
       "      <td>LS</td>\n",
       "      <td>para2</td>\n",
       "      <td>Käesoleva seaduse tähenduses:,1) anda teed (mi...</td>\n",
       "      <td>https://www.riigiteataja.ee/akt/LS#para2</td>\n",
       "      <td>Mõisted</td>\n",
       "      <td>Käesoleva seaduse tähenduses:,1) anda teed (mi...</td>\n",
       "      <td>2651</td>\n",
       "    </tr>\n",
       "    <tr>\n",
       "      <th>23996</th>\n",
       "      <td>KeTS</td>\n",
       "      <td>para55b1</td>\n",
       "      <td>(1) Maavara kaevandamisõiguse tasust kantakse:...</td>\n",
       "      <td>https://www.riigiteataja.ee/akt/KeTS#para55b1</td>\n",
       "      <td>Laekunud keskkonnatasude jaotumine riigieelarv...</td>\n",
       "      <td>Maavara kaevandamisõiguse tasust kantakse:,1)...</td>\n",
       "      <td>1450</td>\n",
       "    </tr>\n",
       "    <tr>\n",
       "      <th>28406</th>\n",
       "      <td>ESS</td>\n",
       "      <td>para2</td>\n",
       "      <td>Käesolevas seaduses kasutatakse mõisteid järgm...</td>\n",
       "      <td>https://www.riigiteataja.ee/akt/ESS#para2</td>\n",
       "      <td>Mõisted</td>\n",
       "      <td>Käesolevas seaduses kasutatakse mõisteid järgm...</td>\n",
       "      <td>2317</td>\n",
       "    </tr>\n",
       "    <tr>\n",
       "      <th>29055</th>\n",
       "      <td>EnKS</td>\n",
       "      <td>para2</td>\n",
       "      <td>Käesolevas seaduses kasutatakse termineid järg...</td>\n",
       "      <td>https://www.riigiteataja.ee/akt/EnKS#para2</td>\n",
       "      <td>Terminid</td>\n",
       "      <td>Käesolevas seaduses kasutatakse termineid järg...</td>\n",
       "      <td>1040</td>\n",
       "    </tr>\n",
       "    <tr>\n",
       "      <th>29333</th>\n",
       "      <td>ELTS</td>\n",
       "      <td>para3</td>\n",
       "      <td>[RT I, 28.06.2012, 1 - jõust. 08.07.2012],Käes...</td>\n",
       "      <td>https://www.riigiteataja.ee/akt/ELTS#para3</td>\n",
       "      <td>Terminid</td>\n",
       "      <td>[RT I, 28.06.2012, 1 - jõust. 08.07.2012],Käes...</td>\n",
       "      <td>1690</td>\n",
       "    </tr>\n",
       "    <tr>\n",
       "      <th>30955</th>\n",
       "      <td>ATKEAS</td>\n",
       "      <td>para24</td>\n",
       "      <td>(1) Maksukohustus tekib aktsiisikauba tarbimis...</td>\n",
       "      <td>https://www.riigiteataja.ee/akt/ATKEAS#para24</td>\n",
       "      <td>Maksukohustuse tekkimine</td>\n",
       "      <td>Käesoleva paragrahvi lõigetes 5–5.2 nimetatud...</td>\n",
       "      <td>1096</td>\n",
       "    </tr>\n",
       "    <tr>\n",
       "      <th>30958</th>\n",
       "      <td>ATKEAS</td>\n",
       "      <td>para27</td>\n",
       "      <td>(1) Aktsiisist on vabastatud:,1) välisriigi di...</td>\n",
       "      <td>https://www.riigiteataja.ee/akt/ATKEAS#para27</td>\n",
       "      <td>Aktsiisivabastus</td>\n",
       "      <td>Aktsiisist on vabastatud:,1) välisriigi diplo...</td>\n",
       "      <td>1093</td>\n",
       "    </tr>\n",
       "  </tbody>\n",
       "</table>\n",
       "</div>"
      ],
      "text/plain": [
       "         type        nr                                               text  \\\n",
       "4917     TuMS    para13  (1) Tulumaksuga maksustatakse kõik töö eest sa...   \n",
       "16672    MSOS     para2  Käesoleva seaduse tähenduses on:,1) veesõiduk ...   \n",
       "17195     MKS    para29  [RT I, 23.03.2017, 1 - jõust. 01.04.2017],Maks...   \n",
       "18195      LS     para2  Käesoleva seaduse tähenduses:,1) anda teed (mi...   \n",
       "23996    KeTS  para55b1  (1) Maavara kaevandamisõiguse tasust kantakse:...   \n",
       "28406     ESS     para2  Käesolevas seaduses kasutatakse mõisteid järgm...   \n",
       "29055    EnKS     para2  Käesolevas seaduses kasutatakse termineid järg...   \n",
       "29333    ELTS     para3  [RT I, 28.06.2012, 1 - jõust. 08.07.2012],Käes...   \n",
       "30955  ATKEAS    para24  (1) Maksukohustus tekib aktsiisikauba tarbimis...   \n",
       "30958  ATKEAS    para27  (1) Aktsiisist on vabastatud:,1) välisriigi di...   \n",
       "\n",
       "                                                link  \\\n",
       "4917     https://www.riigiteataja.ee/akt/TuMS#para13   \n",
       "16672     https://www.riigiteataja.ee/akt/MSOS#para2   \n",
       "17195     https://www.riigiteataja.ee/akt/MKS#para29   \n",
       "18195       https://www.riigiteataja.ee/akt/LS#para2   \n",
       "23996  https://www.riigiteataja.ee/akt/KeTS#para55b1   \n",
       "28406      https://www.riigiteataja.ee/akt/ESS#para2   \n",
       "29055     https://www.riigiteataja.ee/akt/EnKS#para2   \n",
       "29333     https://www.riigiteataja.ee/akt/ELTS#para3   \n",
       "30955  https://www.riigiteataja.ee/akt/ATKEAS#para24   \n",
       "30958  https://www.riigiteataja.ee/akt/ATKEAS#para27   \n",
       "\n",
       "                                                   title  \\\n",
       "4917                                           Palgatulu   \n",
       "16672                                            Mõisted   \n",
       "17195           Maksusaladust sisaldava teabe avaldamine   \n",
       "18195                                            Mõisted   \n",
       "23996  Laekunud keskkonnatasude jaotumine riigieelarv...   \n",
       "28406                                            Mõisted   \n",
       "29055                                           Terminid   \n",
       "29333                                           Terminid   \n",
       "30955                           Maksukohustuse tekkimine   \n",
       "30958                                   Aktsiisivabastus   \n",
       "\n",
       "                                              split_text  word_count  \n",
       "4917    Tulumaksuga ei maksustata:,1) ametnikule, töö...        1059  \n",
       "16672  Käesoleva seaduse tähenduses on:,1) veesõiduk ...        1436  \n",
       "17195  [RT I, 23.03.2017, 1 - jõust. 01.04.2017],Maks...        1840  \n",
       "18195  Käesoleva seaduse tähenduses:,1) anda teed (mi...        2651  \n",
       "23996   Maavara kaevandamisõiguse tasust kantakse:,1)...        1450  \n",
       "28406  Käesolevas seaduses kasutatakse mõisteid järgm...        2317  \n",
       "29055  Käesolevas seaduses kasutatakse termineid järg...        1040  \n",
       "29333  [RT I, 28.06.2012, 1 - jõust. 08.07.2012],Käes...        1690  \n",
       "30955   Käesoleva paragrahvi lõigetes 5–5.2 nimetatud...        1096  \n",
       "30958   Aktsiisist on vabastatud:,1) välisriigi diplo...        1093  "
      ]
     },
     "execution_count": 163,
     "metadata": {},
     "output_type": "execute_result"
    }
   ],
   "source": [
    "df[df[\"word_count\"]>1000]"
   ]
  },
  {
   "cell_type": "code",
   "execution_count": 96,
   "id": "928781a2",
   "metadata": {},
   "outputs": [],
   "source": [
    "GPT_MODEL = \"gpt-3.5-turbo\"  # only matters insofar as it selects which tokenizer to use\n"
   ]
  },
  {
   "cell_type": "code",
   "execution_count": null,
   "id": "9108e98e",
   "metadata": {},
   "outputs": [],
   "source": []
  },
  {
   "cell_type": "code",
   "execution_count": null,
   "id": "9afc302f",
   "metadata": {},
   "outputs": [],
   "source": []
  },
  {
   "cell_type": "code",
   "execution_count": null,
   "id": "7f479eb1",
   "metadata": {},
   "outputs": [],
   "source": []
  },
  {
   "cell_type": "code",
   "execution_count": null,
   "id": "19d9f77d",
   "metadata": {},
   "outputs": [],
   "source": []
  },
  {
   "cell_type": "code",
   "execution_count": null,
   "id": "ff6683ef",
   "metadata": {},
   "outputs": [],
   "source": []
  },
  {
   "cell_type": "code",
   "execution_count": null,
   "id": "dc0ce6c7",
   "metadata": {},
   "outputs": [],
   "source": []
  }
 ],
 "metadata": {
  "kernelspec": {
   "display_name": "Python 3 (ipykernel)",
   "language": "python",
   "name": "python3"
  },
  "language_info": {
   "codemirror_mode": {
    "name": "ipython",
    "version": 3
   },
   "file_extension": ".py",
   "mimetype": "text/x-python",
   "name": "python",
   "nbconvert_exporter": "python",
   "pygments_lexer": "ipython3",
   "version": "3.10.9"
  }
 },
 "nbformat": 4,
 "nbformat_minor": 5
}
