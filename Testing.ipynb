{
 "cells": [
  {
   "cell_type": "markdown",
   "id": "3a192000",
   "metadata": {},
   "source": [
    "## Question answering based on the OpenAI cookbook tutorial"
   ]
  },
  {
   "cell_type": "markdown",
   "id": "56b6a296",
   "metadata": {},
   "source": [
    "OpenAI has a very thorough tutorial on creating a question answering function using embeddings (https://github.com/openai/openai-cookbook/blob/main/examples/Question_answering_using_embeddings.ipynb).\n",
    "One of the possible solutions was to follow this tutorial.\n",
    "\n",
    "The steps modified from the tutorial are: \n",
    "- Prepare the laws data\n",
    "- Create embeddings for the data\n",
    "- Create embedding for the query\n",
    "- Find most relevant text sections\n",
    "- Send query with the question and most relevant sections\n",
    "- Get query answer\n"
   ]
  },
  {
   "cell_type": "markdown",
   "id": "12e3e8a9",
   "metadata": {},
   "source": [
    "## Creating the embeddings file"
   ]
  },
  {
   "cell_type": "markdown",
   "id": "993f7a73",
   "metadata": {},
   "source": [
    "A little section about what embeddings are."
   ]
  },
  {
   "cell_type": "markdown",
   "id": "a2e31195",
   "metadata": {},
   "source": [
    "### Overview of the data"
   ]
  },
  {
   "cell_type": "markdown",
   "id": "fecbf883",
   "metadata": {},
   "source": [
    "A section about the data. Selle võib ka tõsta üldisemaks."
   ]
  },
  {
   "cell_type": "code",
   "execution_count": 41,
   "id": "c4d5e9f1",
   "metadata": {},
   "outputs": [],
   "source": [
    "# imports\n",
    "from fastparquet import write\n",
    "from tables import *\n",
    "import openai  # for generating embeddings\n",
    "import pandas as pd  # for DataFrames to store article sections and embeddings\n",
    "import re  # for cutting <ref> links out of Wikipedia articles\n",
    "import tiktoken  # for counting tokens\n",
    "import numpy as np\n",
    "from dotenv import dotenv_values\n",
    "from scipy import spatial as spatial_2# for calculating vector similarities for search\n",
    "import faiss  # for vector database\n",
    "import scipy.spatial.distance as spatial\n",
    "import time"
   ]
  },
  {
   "cell_type": "code",
   "execution_count": 4,
   "id": "486c3cda",
   "metadata": {},
   "outputs": [],
   "source": [
    "#To use embeddings you must create an .env file where the content is OPENAI_API_KEY = \"your-api-key\"\n",
    "config = dotenv_values(\".env\")[\"OPENAI_API_KEY\"]\n",
    "openai.organization = \"org-3O7bHGD9SwjHVDuUCNCGACC3\"\n",
    "openai.api_key = config\n",
    "GPT_MODEL = \"gpt-3.5-turbo\"  # only matters insofar as it selects which tokenizer to use\n",
    "EMBEDDING_MODEL = \"text-embedding-ada-002\""
   ]
  },
  {
   "cell_type": "code",
   "execution_count": 5,
   "id": "a94e28f8",
   "metadata": {},
   "outputs": [],
   "source": [
    "df = pd.read_csv(\"legal_acts_estonia.csv\", names=['type', 'nr','text','link'])"
   ]
  },
  {
   "cell_type": "code",
   "execution_count": 6,
   "id": "3689441b",
   "metadata": {
    "scrolled": true
   },
   "outputs": [
    {
     "data": {
      "text/html": [
       "<div>\n",
       "<style scoped>\n",
       "    .dataframe tbody tr th:only-of-type {\n",
       "        vertical-align: middle;\n",
       "    }\n",
       "\n",
       "    .dataframe tbody tr th {\n",
       "        vertical-align: top;\n",
       "    }\n",
       "\n",
       "    .dataframe thead th {\n",
       "        text-align: right;\n",
       "    }\n",
       "</style>\n",
       "<table border=\"1\" class=\"dataframe\">\n",
       "  <thead>\n",
       "    <tr style=\"text-align: right;\">\n",
       "      <th></th>\n",
       "      <th>type</th>\n",
       "      <th>nr</th>\n",
       "      <th>text</th>\n",
       "      <th>link</th>\n",
       "    </tr>\n",
       "  </thead>\n",
       "  <tbody>\n",
       "    <tr>\n",
       "      <th>0</th>\n",
       "      <td>VVS</td>\n",
       "      <td>para1</td>\n",
       "      <td>§ 1.\\nVabariigi Valitsuse pädevus\\n(1) Vabarii...</td>\n",
       "      <td>https://www.riigiteataja.ee/akt/VVS#para1</td>\n",
       "    </tr>\n",
       "    <tr>\n",
       "      <th>1</th>\n",
       "      <td>VVS</td>\n",
       "      <td>para2</td>\n",
       "      <td>§ 2.\\nVabariigi Valitsuse asukoht\\nVabariigi V...</td>\n",
       "      <td>https://www.riigiteataja.ee/akt/VVS#para2</td>\n",
       "    </tr>\n",
       "    <tr>\n",
       "      <th>2</th>\n",
       "      <td>VVS</td>\n",
       "      <td>para3</td>\n",
       "      <td>§ 3.\\nVabariigi Valitsuse liikmed\\n(1) Vabarii...</td>\n",
       "      <td>https://www.riigiteataja.ee/akt/VVS#para3</td>\n",
       "    </tr>\n",
       "    <tr>\n",
       "      <th>3</th>\n",
       "      <td>VVS</td>\n",
       "      <td>para3b1</td>\n",
       "      <td>§ 3.1.\\nVabariigi Valitsuse liikme juurdepääs ...</td>\n",
       "      <td>https://www.riigiteataja.ee/akt/VVS#para3b1</td>\n",
       "    </tr>\n",
       "    <tr>\n",
       "      <th>4</th>\n",
       "      <td>VVS</td>\n",
       "      <td>para4</td>\n",
       "      <td>§ 4.\\nVabariigi Valitsuse liikmete tööülesanne...</td>\n",
       "      <td>https://www.riigiteataja.ee/akt/VVS#para4</td>\n",
       "    </tr>\n",
       "    <tr>\n",
       "      <th>...</th>\n",
       "      <td>...</td>\n",
       "      <td>...</td>\n",
       "      <td>...</td>\n",
       "      <td>...</td>\n",
       "    </tr>\n",
       "    <tr>\n",
       "      <th>32784</th>\n",
       "      <td>NaN</td>\n",
       "      <td>para7</td>\n",
       "      <td>§ 7.\\nKaitsekulu\\nKaitsekulu on NATO meetodi j...</td>\n",
       "      <td>https://www.riigiteataja.ee/akt/#para7</td>\n",
       "    </tr>\n",
       "    <tr>\n",
       "      <th>32785</th>\n",
       "      <td>NaN</td>\n",
       "      <td>para8</td>\n",
       "      <td>§ 8.\\nEesti Haigekassa eelarvepositsioon\\nEest...</td>\n",
       "      <td>https://www.riigiteataja.ee/akt/#para8</td>\n",
       "    </tr>\n",
       "    <tr>\n",
       "      <th>32786</th>\n",
       "      <td>NaN</td>\n",
       "      <td>para9</td>\n",
       "      <td>§ 9.\\nEelarveaasta jooksul riigiteede üleandmi...</td>\n",
       "      <td>https://www.riigiteataja.ee/akt/#para9</td>\n",
       "    </tr>\n",
       "    <tr>\n",
       "      <th>32787</th>\n",
       "      <td>NaN</td>\n",
       "      <td>para10</td>\n",
       "      <td>§ 10.\\nTapa spordi- ja vabaajakeskuse ehituse ...</td>\n",
       "      <td>https://www.riigiteataja.ee/akt/#para10</td>\n",
       "    </tr>\n",
       "    <tr>\n",
       "      <th>32788</th>\n",
       "      <td>NaN</td>\n",
       "      <td>para11</td>\n",
       "      <td>§ 11.\\nTulude laekumise korralduse erisus\\n(1)...</td>\n",
       "      <td>https://www.riigiteataja.ee/akt/#para11</td>\n",
       "    </tr>\n",
       "  </tbody>\n",
       "</table>\n",
       "<p>32789 rows × 4 columns</p>\n",
       "</div>"
      ],
      "text/plain": [
       "      type       nr                                               text  \\\n",
       "0      VVS    para1  § 1.\\nVabariigi Valitsuse pädevus\\n(1) Vabarii...   \n",
       "1      VVS    para2  § 2.\\nVabariigi Valitsuse asukoht\\nVabariigi V...   \n",
       "2      VVS    para3  § 3.\\nVabariigi Valitsuse liikmed\\n(1) Vabarii...   \n",
       "3      VVS  para3b1  § 3.1.\\nVabariigi Valitsuse liikme juurdepääs ...   \n",
       "4      VVS    para4  § 4.\\nVabariigi Valitsuse liikmete tööülesanne...   \n",
       "...    ...      ...                                                ...   \n",
       "32784  NaN    para7  § 7.\\nKaitsekulu\\nKaitsekulu on NATO meetodi j...   \n",
       "32785  NaN    para8  § 8.\\nEesti Haigekassa eelarvepositsioon\\nEest...   \n",
       "32786  NaN    para9  § 9.\\nEelarveaasta jooksul riigiteede üleandmi...   \n",
       "32787  NaN   para10  § 10.\\nTapa spordi- ja vabaajakeskuse ehituse ...   \n",
       "32788  NaN   para11  § 11.\\nTulude laekumise korralduse erisus\\n(1)...   \n",
       "\n",
       "                                              link  \n",
       "0        https://www.riigiteataja.ee/akt/VVS#para1  \n",
       "1        https://www.riigiteataja.ee/akt/VVS#para2  \n",
       "2        https://www.riigiteataja.ee/akt/VVS#para3  \n",
       "3      https://www.riigiteataja.ee/akt/VVS#para3b1  \n",
       "4        https://www.riigiteataja.ee/akt/VVS#para4  \n",
       "...                                            ...  \n",
       "32784       https://www.riigiteataja.ee/akt/#para7  \n",
       "32785       https://www.riigiteataja.ee/akt/#para8  \n",
       "32786       https://www.riigiteataja.ee/akt/#para9  \n",
       "32787      https://www.riigiteataja.ee/akt/#para10  \n",
       "32788      https://www.riigiteataja.ee/akt/#para11  \n",
       "\n",
       "[32789 rows x 4 columns]"
      ]
     },
     "execution_count": 6,
     "metadata": {},
     "output_type": "execute_result"
    }
   ],
   "source": [
    "df"
   ]
  },
  {
   "cell_type": "markdown",
   "id": "902fafb9",
   "metadata": {},
   "source": [
    "### Cleaning and splitting the data"
   ]
  },
  {
   "cell_type": "markdown",
   "id": "301fcf6d",
   "metadata": {},
   "source": [
    "The tutorial suggests that long sections, which have over 1600 tokens should be split down to smaller sections. This makes sure that the token limit per query is not exceeded later."
   ]
  },
  {
   "cell_type": "code",
   "execution_count": 7,
   "id": "d94f50db",
   "metadata": {},
   "outputs": [],
   "source": [
    "def num_tokens_from_string(string: str) -> int:\n",
    "    \"\"\"Returns the number of tokens in a text string.\"\"\"\n",
    "    encoding = tiktoken.get_encoding(\"cl100k_base\")\n",
    "    num_tokens = len(encoding.encode(string))\n",
    "    return num_tokens"
   ]
  },
  {
   "cell_type": "code",
   "execution_count": 8,
   "id": "aeadfa64",
   "metadata": {},
   "outputs": [],
   "source": [
    "df[\"title\"] = df[\"text\"].str.split(\"\\n\").str[1]\n",
    "df[\"text\"] = df[\"text\"].str.split(\"\\n\").apply(lambda x: ','.join(x[2:]))\n",
    "df[\"text\"] = df[\"text\"].str.replace('\\n','')\n",
    "#have to split up to have less than 1600 tokens\n",
    "df['split_text'] = df['text'].str.split(r'\\(\\d+\\)')\n",
    "df[\"text\"] = df[\"text\"].str.replace('\\n','')\n",
    "df = df.explode(\"split_text\")\n",
    "df = df[df[\"split_text\"]!= \"\"]\n",
    "df[\"nr\"] = df[\"nr\"].str.replace('para','')"
   ]
  },
  {
   "cell_type": "code",
   "execution_count": 9,
   "id": "e62e576a",
   "metadata": {
    "scrolled": true
   },
   "outputs": [
    {
     "name": "stderr",
     "output_type": "stream",
     "text": [
      "C:\\Users\\annilo\\AppData\\Local\\Temp\\ipykernel_9368\\3183686348.py:13: FutureWarning: The frame.append method is deprecated and will be removed from pandas in a future version. Use pandas.concat instead.\n",
      "  df = df.append(over_length_merge)\n"
     ]
    }
   ],
   "source": [
    "df['token_count'] = df['split_text'].apply(num_tokens_from_string)\n",
    "df_cut = df[[\"type\",\"nr\",\"link\",\"title\",\"split_text\"]]\n",
    "over_length = df[df[\"token_count\"]>1600]\n",
    "#remove the long strings for now\n",
    "df = df[df[\"token_count\"]<1600]\n",
    "over_length['split_text_2'] = over_length['split_text'].str.split(r'\\(\\d+\\.\\d+\\)')\n",
    "over_length = over_length.explode(\"split_text_2\")\n",
    "over_length['token_count'] = over_length['split_text_2'].apply(num_tokens_from_string)\n",
    "#if they still have too many words, most often the paragraphs are lists of definitions, which can be split by list enumeration\n",
    "#other with a shorter length can be added back to original dataframe\n",
    "over_length_merge = over_length[over_length[\"token_count\"]<1600]\n",
    "over_length_merge = over_length_merge.drop(columns=[\"split_text\"]).rename(columns={\"split_text_2\":\"split_text\"})\n",
    "df = df.append(over_length_merge)"
   ]
  },
  {
   "cell_type": "code",
   "execution_count": 10,
   "id": "b4d04933",
   "metadata": {},
   "outputs": [
    {
     "data": {
      "text/html": [
       "<div>\n",
       "<style scoped>\n",
       "    .dataframe tbody tr th:only-of-type {\n",
       "        vertical-align: middle;\n",
       "    }\n",
       "\n",
       "    .dataframe tbody tr th {\n",
       "        vertical-align: top;\n",
       "    }\n",
       "\n",
       "    .dataframe thead th {\n",
       "        text-align: right;\n",
       "    }\n",
       "</style>\n",
       "<table border=\"1\" class=\"dataframe\">\n",
       "  <thead>\n",
       "    <tr style=\"text-align: right;\">\n",
       "      <th></th>\n",
       "      <th>type</th>\n",
       "      <th>nr</th>\n",
       "      <th>text</th>\n",
       "      <th>link</th>\n",
       "      <th>title</th>\n",
       "      <th>split_text</th>\n",
       "      <th>token_count</th>\n",
       "    </tr>\n",
       "  </thead>\n",
       "  <tbody>\n",
       "    <tr>\n",
       "      <th>0</th>\n",
       "      <td>VVS</td>\n",
       "      <td>1</td>\n",
       "      <td>(1) Vabariigi Valitsus teostab täidesaatvat ri...</td>\n",
       "      <td>https://www.riigiteataja.ee/akt/VVS#para1</td>\n",
       "      <td>Vabariigi Valitsuse pädevus</td>\n",
       "      <td>Vabariigi Valitsus teostab täidesaatvat riigi...</td>\n",
       "      <td>39</td>\n",
       "    </tr>\n",
       "    <tr>\n",
       "      <th>0</th>\n",
       "      <td>VVS</td>\n",
       "      <td>1</td>\n",
       "      <td>(1) Vabariigi Valitsus teostab täidesaatvat ri...</td>\n",
       "      <td>https://www.riigiteataja.ee/akt/VVS#para1</td>\n",
       "      <td>Vabariigi Valitsuse pädevus</td>\n",
       "      <td>Vabariigi Valitsus teostab täidesaatvat riigi...</td>\n",
       "      <td>35</td>\n",
       "    </tr>\n",
       "    <tr>\n",
       "      <th>1</th>\n",
       "      <td>VVS</td>\n",
       "      <td>2</td>\n",
       "      <td>Vabariigi Valitsuse asukoht on Tallinnas.,</td>\n",
       "      <td>https://www.riigiteataja.ee/akt/VVS#para2</td>\n",
       "      <td>Vabariigi Valitsuse asukoht</td>\n",
       "      <td>Vabariigi Valitsuse asukoht on Tallinnas.,</td>\n",
       "      <td>15</td>\n",
       "    </tr>\n",
       "    <tr>\n",
       "      <th>2</th>\n",
       "      <td>VVS</td>\n",
       "      <td>3</td>\n",
       "      <td>(1) Vabariigi Valitsuse liikmed on peaminister...</td>\n",
       "      <td>https://www.riigiteataja.ee/akt/VVS#para3</td>\n",
       "      <td>Vabariigi Valitsuse liikmed</td>\n",
       "      <td>Vabariigi Valitsuse liikmed on peaminister ja...</td>\n",
       "      <td>18</td>\n",
       "    </tr>\n",
       "    <tr>\n",
       "      <th>2</th>\n",
       "      <td>VVS</td>\n",
       "      <td>3</td>\n",
       "      <td>(1) Vabariigi Valitsuse liikmed on peaminister...</td>\n",
       "      <td>https://www.riigiteataja.ee/akt/VVS#para3</td>\n",
       "      <td>Vabariigi Valitsuse liikmed</td>\n",
       "      <td>Ministrite pädevuse ministeeriumi juhtimisel ...</td>\n",
       "      <td>98</td>\n",
       "    </tr>\n",
       "    <tr>\n",
       "      <th>...</th>\n",
       "      <td>...</td>\n",
       "      <td>...</td>\n",
       "      <td>...</td>\n",
       "      <td>...</td>\n",
       "      <td>...</td>\n",
       "      <td>...</td>\n",
       "      <td>...</td>\n",
       "    </tr>\n",
       "    <tr>\n",
       "      <th>31032</th>\n",
       "      <td>ATKEAS</td>\n",
       "      <td>69b3</td>\n",
       "      <td>(1) Energia aktsiisivabastuse loa taotlemiseks...</td>\n",
       "      <td>https://www.riigiteataja.ee/akt/ATKEAS#para69b3</td>\n",
       "      <td>Energia aktsiisivabastuse loa taotlemisel esit...</td>\n",
       "      <td>Intensiivse gaasitarbimisega ettevõtja esitab...</td>\n",
       "      <td>915</td>\n",
       "    </tr>\n",
       "    <tr>\n",
       "      <th>31032</th>\n",
       "      <td>ATKEAS</td>\n",
       "      <td>69b3</td>\n",
       "      <td>(1) Energia aktsiisivabastuse loa taotlemiseks...</td>\n",
       "      <td>https://www.riigiteataja.ee/akt/ATKEAS#para69b3</td>\n",
       "      <td>Energia aktsiisivabastuse loa taotlemisel esit...</td>\n",
       "      <td>Käesoleva paragrahvi lõike 1.3 punktis 2 nime...</td>\n",
       "      <td>153</td>\n",
       "    </tr>\n",
       "    <tr>\n",
       "      <th>31035</th>\n",
       "      <td>ATKEAS</td>\n",
       "      <td>69b6</td>\n",
       "      <td>(1) Energia aktsiisivabastuse loa omanik on ko...</td>\n",
       "      <td>https://www.riigiteataja.ee/akt/ATKEAS#para69b6</td>\n",
       "      <td>Energia aktsiisivabastuse loa omaniku kohustused</td>\n",
       "      <td>Energia aktsiisivabastuse loa omanik on kohus...</td>\n",
       "      <td>1223</td>\n",
       "    </tr>\n",
       "    <tr>\n",
       "      <th>31035</th>\n",
       "      <td>ATKEAS</td>\n",
       "      <td>69b6</td>\n",
       "      <td>(1) Energia aktsiisivabastuse loa omanik on ko...</td>\n",
       "      <td>https://www.riigiteataja.ee/akt/ATKEAS#para69b6</td>\n",
       "      <td>Energia aktsiisivabastuse loa omaniku kohustused</td>\n",
       "      <td>Energia aktsiisivabastuse luba omav või omanu...</td>\n",
       "      <td>678</td>\n",
       "    </tr>\n",
       "    <tr>\n",
       "      <th>31035</th>\n",
       "      <td>ATKEAS</td>\n",
       "      <td>69b6</td>\n",
       "      <td>(1) Energia aktsiisivabastuse loa omanik on ko...</td>\n",
       "      <td>https://www.riigiteataja.ee/akt/ATKEAS#para69b6</td>\n",
       "      <td>Energia aktsiisivabastuse loa omaniku kohustused</td>\n",
       "      <td>Energia aktsiisivabastuse luba omav või omanu...</td>\n",
       "      <td>651</td>\n",
       "    </tr>\n",
       "  </tbody>\n",
       "</table>\n",
       "<p>106708 rows × 7 columns</p>\n",
       "</div>"
      ],
      "text/plain": [
       "         type    nr                                               text  \\\n",
       "0         VVS     1  (1) Vabariigi Valitsus teostab täidesaatvat ri...   \n",
       "0         VVS     1  (1) Vabariigi Valitsus teostab täidesaatvat ri...   \n",
       "1         VVS     2         Vabariigi Valitsuse asukoht on Tallinnas.,   \n",
       "2         VVS     3  (1) Vabariigi Valitsuse liikmed on peaminister...   \n",
       "2         VVS     3  (1) Vabariigi Valitsuse liikmed on peaminister...   \n",
       "...       ...   ...                                                ...   \n",
       "31032  ATKEAS  69b3  (1) Energia aktsiisivabastuse loa taotlemiseks...   \n",
       "31032  ATKEAS  69b3  (1) Energia aktsiisivabastuse loa taotlemiseks...   \n",
       "31035  ATKEAS  69b6  (1) Energia aktsiisivabastuse loa omanik on ko...   \n",
       "31035  ATKEAS  69b6  (1) Energia aktsiisivabastuse loa omanik on ko...   \n",
       "31035  ATKEAS  69b6  (1) Energia aktsiisivabastuse loa omanik on ko...   \n",
       "\n",
       "                                                  link  \\\n",
       "0            https://www.riigiteataja.ee/akt/VVS#para1   \n",
       "0            https://www.riigiteataja.ee/akt/VVS#para1   \n",
       "1            https://www.riigiteataja.ee/akt/VVS#para2   \n",
       "2            https://www.riigiteataja.ee/akt/VVS#para3   \n",
       "2            https://www.riigiteataja.ee/akt/VVS#para3   \n",
       "...                                                ...   \n",
       "31032  https://www.riigiteataja.ee/akt/ATKEAS#para69b3   \n",
       "31032  https://www.riigiteataja.ee/akt/ATKEAS#para69b3   \n",
       "31035  https://www.riigiteataja.ee/akt/ATKEAS#para69b6   \n",
       "31035  https://www.riigiteataja.ee/akt/ATKEAS#para69b6   \n",
       "31035  https://www.riigiteataja.ee/akt/ATKEAS#para69b6   \n",
       "\n",
       "                                                   title  \\\n",
       "0                            Vabariigi Valitsuse pädevus   \n",
       "0                            Vabariigi Valitsuse pädevus   \n",
       "1                            Vabariigi Valitsuse asukoht   \n",
       "2                            Vabariigi Valitsuse liikmed   \n",
       "2                            Vabariigi Valitsuse liikmed   \n",
       "...                                                  ...   \n",
       "31032  Energia aktsiisivabastuse loa taotlemisel esit...   \n",
       "31032  Energia aktsiisivabastuse loa taotlemisel esit...   \n",
       "31035   Energia aktsiisivabastuse loa omaniku kohustused   \n",
       "31035   Energia aktsiisivabastuse loa omaniku kohustused   \n",
       "31035   Energia aktsiisivabastuse loa omaniku kohustused   \n",
       "\n",
       "                                              split_text  token_count  \n",
       "0       Vabariigi Valitsus teostab täidesaatvat riigi...           39  \n",
       "0       Vabariigi Valitsus teostab täidesaatvat riigi...           35  \n",
       "1             Vabariigi Valitsuse asukoht on Tallinnas.,           15  \n",
       "2       Vabariigi Valitsuse liikmed on peaminister ja...           18  \n",
       "2       Ministrite pädevuse ministeeriumi juhtimisel ...           98  \n",
       "...                                                  ...          ...  \n",
       "31032   Intensiivse gaasitarbimisega ettevõtja esitab...          915  \n",
       "31032   Käesoleva paragrahvi lõike 1.3 punktis 2 nime...          153  \n",
       "31035   Energia aktsiisivabastuse loa omanik on kohus...         1223  \n",
       "31035   Energia aktsiisivabastuse luba omav või omanu...          678  \n",
       "31035   Energia aktsiisivabastuse luba omav või omanu...          651  \n",
       "\n",
       "[106708 rows x 7 columns]"
      ]
     },
     "execution_count": 10,
     "metadata": {},
     "output_type": "execute_result"
    }
   ],
   "source": [
    "df"
   ]
  },
  {
   "cell_type": "code",
   "execution_count": 11,
   "id": "d356ecfe",
   "metadata": {
    "scrolled": true
   },
   "outputs": [
    {
     "name": "stderr",
     "output_type": "stream",
     "text": [
      "C:\\Users\\annilo\\AppData\\Local\\Temp\\ipykernel_9368\\3167922143.py:9: FutureWarning: The frame.append method is deprecated and will be removed from pandas in a future version. Use pandas.concat instead.\n",
      "  df = df.append(over_length)\n"
     ]
    }
   ],
   "source": [
    "over_length = over_length[over_length[\"token_count\"]>1600]\n",
    "over_length[\"title_2\"] = over_length[\"split_text_2\"].str.split(r',\\d+[\\.\\d+]*\\)').str[0]\n",
    "over_length[\"split_text_3\"] = over_length[\"split_text_2\"].str.split(r',\\d+[\\.\\d+]*\\)')\n",
    "over_length = over_length.explode(\"split_text_3\")\n",
    "over_length = over_length[over_length[\"title_2\"]!=over_length[\"split_text_3\"]]\n",
    "over_length['token_count'] = over_length['split_text_3'].apply(num_tokens_from_string)\n",
    "over_length[\"title\"] = over_length[\"title\"]+ '. ' + over_length[\"title_2\"]\n",
    "over_length = over_length.drop(columns=[\"split_text\",\"split_text_2\",\"title_2\"]).rename(columns={\"split_text_3\":\"split_text\"})\n",
    "df = df.append(over_length)"
   ]
  },
  {
   "cell_type": "code",
   "execution_count": 12,
   "id": "9108e98e",
   "metadata": {
    "scrolled": false
   },
   "outputs": [
    {
     "name": "stderr",
     "output_type": "stream",
     "text": [
      "C:\\Users\\annilo\\AppData\\Local\\Temp\\ipykernel_9368\\792991765.py:3: FutureWarning: The default value of regex will change from True to False in a future version.\n",
      "  df[\"concatenated\"] = df[\"concatenated\"].str.replace(r'\\s+', ' ').str.rstrip(\",\")\n"
     ]
    }
   ],
   "source": [
    "df.fillna('', inplace=True)\n",
    "df[\"concatenated\"] = \"Seadus \"+ df[\"type\"]+\" paragrahv \"+ df[\"nr\"]+\". Pealkiri: \"+ df[\"title\"]+ \" Sisu: \"+ df[\"split_text\"]\n",
    "df[\"concatenated\"] = df[\"concatenated\"].str.replace(r'\\s+', ' ').str.rstrip(\",\")\n"
   ]
  },
  {
   "cell_type": "code",
   "execution_count": 13,
   "id": "2aaef481",
   "metadata": {},
   "outputs": [
    {
     "data": {
      "text/html": [
       "<div>\n",
       "<style scoped>\n",
       "    .dataframe tbody tr th:only-of-type {\n",
       "        vertical-align: middle;\n",
       "    }\n",
       "\n",
       "    .dataframe tbody tr th {\n",
       "        vertical-align: top;\n",
       "    }\n",
       "\n",
       "    .dataframe thead th {\n",
       "        text-align: right;\n",
       "    }\n",
       "</style>\n",
       "<table border=\"1\" class=\"dataframe\">\n",
       "  <thead>\n",
       "    <tr style=\"text-align: right;\">\n",
       "      <th></th>\n",
       "      <th>type</th>\n",
       "      <th>nr</th>\n",
       "      <th>text</th>\n",
       "      <th>link</th>\n",
       "      <th>title</th>\n",
       "      <th>split_text</th>\n",
       "      <th>token_count</th>\n",
       "      <th>concatenated</th>\n",
       "    </tr>\n",
       "  </thead>\n",
       "  <tbody>\n",
       "    <tr>\n",
       "      <th>0</th>\n",
       "      <td>VVS</td>\n",
       "      <td>1</td>\n",
       "      <td>(1) Vabariigi Valitsus teostab täidesaatvat ri...</td>\n",
       "      <td>https://www.riigiteataja.ee/akt/VVS#para1</td>\n",
       "      <td>Vabariigi Valitsuse pädevus</td>\n",
       "      <td>Vabariigi Valitsus teostab täidesaatvat riigi...</td>\n",
       "      <td>39</td>\n",
       "      <td>Seadus VVS paragrahv 1. Pealkiri: Vabariigi Va...</td>\n",
       "    </tr>\n",
       "    <tr>\n",
       "      <th>0</th>\n",
       "      <td>VVS</td>\n",
       "      <td>1</td>\n",
       "      <td>(1) Vabariigi Valitsus teostab täidesaatvat ri...</td>\n",
       "      <td>https://www.riigiteataja.ee/akt/VVS#para1</td>\n",
       "      <td>Vabariigi Valitsuse pädevus</td>\n",
       "      <td>Vabariigi Valitsus teostab täidesaatvat riigi...</td>\n",
       "      <td>35</td>\n",
       "      <td>Seadus VVS paragrahv 1. Pealkiri: Vabariigi Va...</td>\n",
       "    </tr>\n",
       "    <tr>\n",
       "      <th>1</th>\n",
       "      <td>VVS</td>\n",
       "      <td>2</td>\n",
       "      <td>Vabariigi Valitsuse asukoht on Tallinnas.,</td>\n",
       "      <td>https://www.riigiteataja.ee/akt/VVS#para2</td>\n",
       "      <td>Vabariigi Valitsuse asukoht</td>\n",
       "      <td>Vabariigi Valitsuse asukoht on Tallinnas.,</td>\n",
       "      <td>15</td>\n",
       "      <td>Seadus VVS paragrahv 2. Pealkiri: Vabariigi Va...</td>\n",
       "    </tr>\n",
       "    <tr>\n",
       "      <th>2</th>\n",
       "      <td>VVS</td>\n",
       "      <td>3</td>\n",
       "      <td>(1) Vabariigi Valitsuse liikmed on peaminister...</td>\n",
       "      <td>https://www.riigiteataja.ee/akt/VVS#para3</td>\n",
       "      <td>Vabariigi Valitsuse liikmed</td>\n",
       "      <td>Vabariigi Valitsuse liikmed on peaminister ja...</td>\n",
       "      <td>18</td>\n",
       "      <td>Seadus VVS paragrahv 3. Pealkiri: Vabariigi Va...</td>\n",
       "    </tr>\n",
       "    <tr>\n",
       "      <th>2</th>\n",
       "      <td>VVS</td>\n",
       "      <td>3</td>\n",
       "      <td>(1) Vabariigi Valitsuse liikmed on peaminister...</td>\n",
       "      <td>https://www.riigiteataja.ee/akt/VVS#para3</td>\n",
       "      <td>Vabariigi Valitsuse liikmed</td>\n",
       "      <td>Ministrite pädevuse ministeeriumi juhtimisel ...</td>\n",
       "      <td>98</td>\n",
       "      <td>Seadus VVS paragrahv 3. Pealkiri: Vabariigi Va...</td>\n",
       "    </tr>\n",
       "    <tr>\n",
       "      <th>...</th>\n",
       "      <td>...</td>\n",
       "      <td>...</td>\n",
       "      <td>...</td>\n",
       "      <td>...</td>\n",
       "      <td>...</td>\n",
       "      <td>...</td>\n",
       "      <td>...</td>\n",
       "      <td>...</td>\n",
       "    </tr>\n",
       "    <tr>\n",
       "      <th>30972</th>\n",
       "      <td>ATKEAS</td>\n",
       "      <td>36</td>\n",
       "      <td>(1) Aktsiisilaopidaja ja registreeritud kaubas...</td>\n",
       "      <td>https://www.riigiteataja.ee/akt/ATKEAS#para36</td>\n",
       "      <td>Aktsiisilaopidaja ja registreeritud kaubasaaja...</td>\n",
       "      <td>teatama maksuhaldurile kütuse erimärgistamise...</td>\n",
       "      <td>57</td>\n",
       "      <td>Seadus ATKEAS paragrahv 36. Pealkiri: Aktsiisi...</td>\n",
       "    </tr>\n",
       "    <tr>\n",
       "      <th>30972</th>\n",
       "      <td>ATKEAS</td>\n",
       "      <td>36</td>\n",
       "      <td>(1) Aktsiisilaopidaja ja registreeritud kaubas...</td>\n",
       "      <td>https://www.riigiteataja.ee/akt/ATKEAS#para36</td>\n",
       "      <td>Aktsiisilaopidaja ja registreeritud kaubasaaja...</td>\n",
       "      <td>esitama maksuhaldurile SADHESi lisadokumentid...</td>\n",
       "      <td>131</td>\n",
       "      <td>Seadus ATKEAS paragrahv 36. Pealkiri: Aktsiisi...</td>\n",
       "    </tr>\n",
       "    <tr>\n",
       "      <th>30972</th>\n",
       "      <td>ATKEAS</td>\n",
       "      <td>36</td>\n",
       "      <td>(1) Aktsiisilaopidaja ja registreeritud kaubas...</td>\n",
       "      <td>https://www.riigiteataja.ee/akt/ATKEAS#para36</td>\n",
       "      <td>Aktsiisilaopidaja ja registreeritud kaubasaaja...</td>\n",
       "      <td>pidama aktsiisilaost lähetatud denatureeritud...</td>\n",
       "      <td>80</td>\n",
       "      <td>Seadus ATKEAS paragrahv 36. Pealkiri: Aktsiisi...</td>\n",
       "    </tr>\n",
       "    <tr>\n",
       "      <th>30972</th>\n",
       "      <td>ATKEAS</td>\n",
       "      <td>36</td>\n",
       "      <td>(1) Aktsiisilaopidaja ja registreeritud kaubas...</td>\n",
       "      <td>https://www.riigiteataja.ee/akt/ATKEAS#para36</td>\n",
       "      <td>Aktsiisilaopidaja ja registreeritud kaubasaaja...</td>\n",
       "      <td>[kehtetu - RT I, 03.04.2018, 2 - jõust. 01.02...</td>\n",
       "      <td>31</td>\n",
       "      <td>Seadus ATKEAS paragrahv 36. Pealkiri: Aktsiisi...</td>\n",
       "    </tr>\n",
       "    <tr>\n",
       "      <th>30972</th>\n",
       "      <td>ATKEAS</td>\n",
       "      <td>36</td>\n",
       "      <td>(1) Aktsiisilaopidaja ja registreeritud kaubas...</td>\n",
       "      <td>https://www.riigiteataja.ee/akt/ATKEAS#para36</td>\n",
       "      <td>Aktsiisilaopidaja ja registreeritud kaubasaaja...</td>\n",
       "      <td>pidama iga aktsiisilaost lähetatud vedela põl...</td>\n",
       "      <td>158</td>\n",
       "      <td>Seadus ATKEAS paragrahv 36. Pealkiri: Aktsiisi...</td>\n",
       "    </tr>\n",
       "  </tbody>\n",
       "</table>\n",
       "<p>108537 rows × 8 columns</p>\n",
       "</div>"
      ],
      "text/plain": [
       "         type  nr                                               text  \\\n",
       "0         VVS   1  (1) Vabariigi Valitsus teostab täidesaatvat ri...   \n",
       "0         VVS   1  (1) Vabariigi Valitsus teostab täidesaatvat ri...   \n",
       "1         VVS   2         Vabariigi Valitsuse asukoht on Tallinnas.,   \n",
       "2         VVS   3  (1) Vabariigi Valitsuse liikmed on peaminister...   \n",
       "2         VVS   3  (1) Vabariigi Valitsuse liikmed on peaminister...   \n",
       "...       ...  ..                                                ...   \n",
       "30972  ATKEAS  36  (1) Aktsiisilaopidaja ja registreeritud kaubas...   \n",
       "30972  ATKEAS  36  (1) Aktsiisilaopidaja ja registreeritud kaubas...   \n",
       "30972  ATKEAS  36  (1) Aktsiisilaopidaja ja registreeritud kaubas...   \n",
       "30972  ATKEAS  36  (1) Aktsiisilaopidaja ja registreeritud kaubas...   \n",
       "30972  ATKEAS  36  (1) Aktsiisilaopidaja ja registreeritud kaubas...   \n",
       "\n",
       "                                                link  \\\n",
       "0          https://www.riigiteataja.ee/akt/VVS#para1   \n",
       "0          https://www.riigiteataja.ee/akt/VVS#para1   \n",
       "1          https://www.riigiteataja.ee/akt/VVS#para2   \n",
       "2          https://www.riigiteataja.ee/akt/VVS#para3   \n",
       "2          https://www.riigiteataja.ee/akt/VVS#para3   \n",
       "...                                              ...   \n",
       "30972  https://www.riigiteataja.ee/akt/ATKEAS#para36   \n",
       "30972  https://www.riigiteataja.ee/akt/ATKEAS#para36   \n",
       "30972  https://www.riigiteataja.ee/akt/ATKEAS#para36   \n",
       "30972  https://www.riigiteataja.ee/akt/ATKEAS#para36   \n",
       "30972  https://www.riigiteataja.ee/akt/ATKEAS#para36   \n",
       "\n",
       "                                                   title  \\\n",
       "0                            Vabariigi Valitsuse pädevus   \n",
       "0                            Vabariigi Valitsuse pädevus   \n",
       "1                            Vabariigi Valitsuse asukoht   \n",
       "2                            Vabariigi Valitsuse liikmed   \n",
       "2                            Vabariigi Valitsuse liikmed   \n",
       "...                                                  ...   \n",
       "30972  Aktsiisilaopidaja ja registreeritud kaubasaaja...   \n",
       "30972  Aktsiisilaopidaja ja registreeritud kaubasaaja...   \n",
       "30972  Aktsiisilaopidaja ja registreeritud kaubasaaja...   \n",
       "30972  Aktsiisilaopidaja ja registreeritud kaubasaaja...   \n",
       "30972  Aktsiisilaopidaja ja registreeritud kaubasaaja...   \n",
       "\n",
       "                                              split_text  token_count  \\\n",
       "0       Vabariigi Valitsus teostab täidesaatvat riigi...           39   \n",
       "0       Vabariigi Valitsus teostab täidesaatvat riigi...           35   \n",
       "1             Vabariigi Valitsuse asukoht on Tallinnas.,           15   \n",
       "2       Vabariigi Valitsuse liikmed on peaminister ja...           18   \n",
       "2       Ministrite pädevuse ministeeriumi juhtimisel ...           98   \n",
       "...                                                  ...          ...   \n",
       "30972   teatama maksuhaldurile kütuse erimärgistamise...           57   \n",
       "30972   esitama maksuhaldurile SADHESi lisadokumentid...          131   \n",
       "30972   pidama aktsiisilaost lähetatud denatureeritud...           80   \n",
       "30972   [kehtetu - RT I, 03.04.2018, 2 - jõust. 01.02...           31   \n",
       "30972   pidama iga aktsiisilaost lähetatud vedela põl...          158   \n",
       "\n",
       "                                            concatenated  \n",
       "0      Seadus VVS paragrahv 1. Pealkiri: Vabariigi Va...  \n",
       "0      Seadus VVS paragrahv 1. Pealkiri: Vabariigi Va...  \n",
       "1      Seadus VVS paragrahv 2. Pealkiri: Vabariigi Va...  \n",
       "2      Seadus VVS paragrahv 3. Pealkiri: Vabariigi Va...  \n",
       "2      Seadus VVS paragrahv 3. Pealkiri: Vabariigi Va...  \n",
       "...                                                  ...  \n",
       "30972  Seadus ATKEAS paragrahv 36. Pealkiri: Aktsiisi...  \n",
       "30972  Seadus ATKEAS paragrahv 36. Pealkiri: Aktsiisi...  \n",
       "30972  Seadus ATKEAS paragrahv 36. Pealkiri: Aktsiisi...  \n",
       "30972  Seadus ATKEAS paragrahv 36. Pealkiri: Aktsiisi...  \n",
       "30972  Seadus ATKEAS paragrahv 36. Pealkiri: Aktsiisi...  \n",
       "\n",
       "[108537 rows x 8 columns]"
      ]
     },
     "execution_count": 13,
     "metadata": {},
     "output_type": "execute_result"
    }
   ],
   "source": [
    "df"
   ]
  },
  {
   "cell_type": "code",
   "execution_count": 14,
   "id": "48e3b9c6",
   "metadata": {},
   "outputs": [],
   "source": [
    "#replace all list enumeration\n",
    "#dont think it is needed\n",
    "#df[\"split_text\"] = df[\"split_text\"].str.replace(r',\\d+[\\.\\d+]*\\)','')"
   ]
  },
  {
   "cell_type": "code",
   "execution_count": 15,
   "id": "0b062103",
   "metadata": {},
   "outputs": [],
   "source": [
    "laws = np.array(df[\"concatenated\"])\n",
    "#laws = laws[:10000]"
   ]
  },
  {
   "cell_type": "code",
   "execution_count": 16,
   "id": "d870fc21",
   "metadata": {
    "scrolled": false
   },
   "outputs": [
    {
     "name": "stdout",
     "output_type": "stream",
     "text": [
      "Batch 0 to 999\n",
      "Batch 1000 to 1999\n",
      "Batch 2000 to 2999\n",
      "Batch 3000 to 3999\n",
      "Batch 4000 to 4999\n",
      "Batch 5000 to 5999\n",
      "Batch 6000 to 6999\n",
      "Batch 7000 to 7999\n",
      "Batch 8000 to 8999\n",
      "Batch 9000 to 9999\n",
      "Batch 10000 to 10999\n",
      "Batch 11000 to 11999\n",
      "Batch 12000 to 12999\n",
      "Batch 13000 to 13999\n",
      "Batch 14000 to 14999\n",
      "Batch 15000 to 15999\n",
      "Batch 16000 to 16999\n",
      "Batch 17000 to 17999\n",
      "Batch 18000 to 18999\n",
      "Batch 19000 to 19999\n",
      "Batch 20000 to 20999\n",
      "Batch 21000 to 21999\n",
      "Batch 22000 to 22999\n",
      "Batch 23000 to 23999\n",
      "Batch 24000 to 24999\n",
      "Batch 25000 to 25999\n",
      "Batch 26000 to 26999\n",
      "Batch 27000 to 27999\n",
      "Batch 28000 to 28999\n",
      "Batch 29000 to 29999\n",
      "Batch 30000 to 30999\n",
      "Batch 31000 to 31999\n",
      "Batch 32000 to 32999\n",
      "Batch 33000 to 33999\n",
      "Batch 34000 to 34999\n",
      "Batch 35000 to 35999\n",
      "Batch 36000 to 36999\n",
      "Batch 37000 to 37999\n",
      "Batch 38000 to 38999\n",
      "Batch 39000 to 39999\n",
      "Batch 40000 to 40999\n",
      "Batch 41000 to 41999\n",
      "Batch 42000 to 42999\n",
      "Batch 43000 to 43999\n",
      "Batch 44000 to 44999\n",
      "Batch 45000 to 45999\n",
      "Batch 46000 to 46999\n",
      "Batch 47000 to 47999\n",
      "Batch 48000 to 48999\n",
      "Batch 49000 to 49999\n",
      "Batch 50000 to 50999\n",
      "Batch 51000 to 51999\n",
      "Batch 52000 to 52999\n",
      "Batch 53000 to 53999\n",
      "Batch 54000 to 54999\n",
      "Batch 55000 to 55999\n",
      "Batch 56000 to 56999\n",
      "Batch 57000 to 57999\n",
      "Batch 58000 to 58999\n",
      "Batch 59000 to 59999\n",
      "Batch 60000 to 60999\n",
      "Batch 61000 to 61999\n",
      "Batch 62000 to 62999\n",
      "Batch 63000 to 63999\n",
      "Batch 64000 to 64999\n",
      "Batch 65000 to 65999\n",
      "Batch 66000 to 66999\n",
      "Batch 67000 to 67999\n",
      "Batch 68000 to 68999\n",
      "Batch 69000 to 69999\n",
      "Batch 70000 to 70999\n",
      "Batch 71000 to 71999\n",
      "Batch 72000 to 72999\n",
      "Batch 73000 to 73999\n",
      "Batch 74000 to 74999\n",
      "Batch 75000 to 75999\n",
      "Batch 76000 to 76999\n",
      "Batch 77000 to 77999\n",
      "Batch 78000 to 78999\n",
      "Batch 79000 to 79999\n",
      "Batch 80000 to 80999\n",
      "Batch 81000 to 81999\n",
      "Batch 82000 to 82999\n",
      "Batch 83000 to 83999\n",
      "Batch 84000 to 84999\n",
      "Batch 85000 to 85999\n",
      "Batch 86000 to 86999\n",
      "Batch 87000 to 87999\n",
      "Batch 88000 to 88999\n",
      "Batch 89000 to 89999\n",
      "Batch 90000 to 90999\n",
      "Batch 91000 to 91999\n",
      "Batch 92000 to 92999\n",
      "Batch 93000 to 93999\n",
      "Batch 94000 to 94999\n",
      "Batch 95000 to 95999\n",
      "Batch 96000 to 96999\n",
      "Batch 97000 to 97999\n",
      "Batch 98000 to 98999\n",
      "Batch 99000 to 99999\n",
      "Batch 100000 to 100999\n",
      "Batch 101000 to 101999\n",
      "Batch 102000 to 102999\n",
      "Batch 103000 to 103999\n",
      "Batch 104000 to 104999\n",
      "Batch 105000 to 105999\n",
      "Batch 106000 to 106999\n",
      "Batch 107000 to 107999\n",
      "Batch 108000 to 108999\n"
     ]
    }
   ],
   "source": [
    "# calculate embeddings\n",
    "\n",
    "##\n",
    "##DO NOT RUN UNLESS NEED TO CREATE NEW EMBEDDINGS (THIS CODE COSTS ABT 2 DOLLARS)\n",
    "\n",
    "#EMBEDDING_MODEL = \"text-embedding-ada-002\"  # OpenAI's best embeddings as of Apr 2023\n",
    "#BATCH_SIZE = 1000  \n",
    "#\n",
    "#law_strings = laws.tolist()\n",
    "#\n",
    "#embeddings = []\n",
    "#for batch_start in range(0, len(law_strings), BATCH_SIZE):\n",
    "#    batch_end = batch_start + BATCH_SIZE\n",
    "#    batch = law_strings[batch_start:batch_end]\n",
    "#    print(f\"Batch {batch_start} to {batch_end-1}\")\n",
    "#    response = openai.Embedding.create(model=EMBEDDING_MODEL, input=batch)\n",
    "#    for i, be in enumerate(response[\"data\"]):\n",
    "#        assert i == be[\"index\"]  # double check embeddings are in same order as input\n",
    "#    batch_embeddings = [e[\"embedding\"] for e in response[\"data\"]]\n",
    "#    embeddings.extend(batch_embeddings)\n",
    "#\n",
    "#result = pd.DataFrame({\"text\": law_strings, \"embedding\": embeddings})"
   ]
  },
  {
   "cell_type": "code",
   "execution_count": 17,
   "id": "7f479eb1",
   "metadata": {},
   "outputs": [],
   "source": [
    "#df['text'] = df['text'].astype('str')\n",
    "#df['embedding'] = df['embedding'].astype('str')"
   ]
  },
  {
   "cell_type": "code",
   "execution_count": 22,
   "id": "e68ce452",
   "metadata": {},
   "outputs": [],
   "source": [
    "def save_index(embeddings: list, index_path: str = 'vector_database.index') -> faiss.IndexFlatL2:\n",
    "    \"\"\" Creates, saves and returns embeddings vectors\"\"\"\n",
    "    # Create a vector index\n",
    "    dimension = len(embeddings[0])  # Assuming all embeddings have the same dimension\n",
    "    index = faiss.IndexFlatL2(dimension)  # L2 distance is used for similarity search\n",
    "    \n",
    "    # Convert embeddings to numpy array\n",
    "    embeddings_np = np.array(embeddings).astype('float32')\n",
    "\n",
    "    # Add embeddings to the index\n",
    "    index.add(embeddings_np)\n",
    "\n",
    "    # Save the index\n",
    "    faiss.write_index(index, index_path)\n",
    "    \n",
    "    return index\n",
    "\n"
   ]
  },
  {
   "cell_type": "code",
   "execution_count": 19,
   "id": "19d9f77d",
   "metadata": {
    "scrolled": false
   },
   "outputs": [
    {
     "name": "stderr",
     "output_type": "stream",
     "text": [
      "C:\\Users\\annilo\\AppData\\Local\\Temp\\ipykernel_9368\\1531630278.py:2: PerformanceWarning: \n",
      "your performance may suffer as PyTables will pickle object types that it cannot\n",
      "map directly to c-types [inferred_type->mixed,key->block0_values] [items->Index(['text', 'embedding'], dtype='object')]\n",
      "\n",
      "  result.to_hdf(r'embeddedfile_all.h5', key='stage', mode='w')\n"
     ]
    }
   ],
   "source": [
    "#loading is super slow\n",
    "result.to_hdf(r'embeddedfile_all.h5', key='stage', mode='w')"
   ]
  },
  {
   "cell_type": "code",
   "execution_count": 23,
   "id": "8db5bbb4",
   "metadata": {
    "scrolled": true
   },
   "outputs": [],
   "source": [
    "index = save_index(embeddings)"
   ]
  },
  {
   "cell_type": "markdown",
   "id": "5e93e52f",
   "metadata": {},
   "source": [
    "## Using the embeddings"
   ]
  },
  {
   "cell_type": "code",
   "execution_count": 26,
   "id": "a4b23e46",
   "metadata": {},
   "outputs": [],
   "source": [
    "def load_index(index_path: str = 'vector_database.index') -> faiss.IndexFlatL2:\n",
    "    \"\"\" Loads index file from disc and returns it as faiss.IndexFlatL2\"\"\"\n",
    "    return faiss.read_index(index_path)"
   ]
  },
  {
   "cell_type": "code",
   "execution_count": 27,
   "id": "ff6683ef",
   "metadata": {},
   "outputs": [],
   "source": [
    "reread = pd.read_hdf('./embeddedfile_all.h5')\n"
   ]
  },
  {
   "cell_type": "code",
   "execution_count": 28,
   "id": "e25178f7",
   "metadata": {},
   "outputs": [],
   "source": [
    "index = load_index()"
   ]
  },
  {
   "cell_type": "code",
   "execution_count": 29,
   "id": "76e943a8",
   "metadata": {},
   "outputs": [],
   "source": [
    "df = reread\n"
   ]
  },
  {
   "cell_type": "markdown",
   "id": "4b06cdc7",
   "metadata": {},
   "source": [
    "The spacial distance cosine is calculated here."
   ]
  },
  {
   "cell_type": "code",
   "execution_count": 42,
   "id": "e844979a",
   "metadata": {},
   "outputs": [],
   "source": [
    "# search function\n",
    "def strings_ranked_by_relatedness(\n",
    "    query: str,\n",
    "    df: pd.DataFrame,\n",
    "    relatedness_fn=lambda x, y: 1 - spatial_2.distance.cosine(x, y),\n",
    "    top_n: int = 100\n",
    ") -> tuple[list[str], list[float]]:\n",
    "    \"\"\"Returns a list of strings and relatednesses, sorted from most related to least.\"\"\"\n",
    "    query_embedding_response = openai.Embedding.create(\n",
    "        model=EMBEDDING_MODEL,\n",
    "        input=query,\n",
    "    )\n",
    "    query_embedding = query_embedding_response[\"data\"][0][\"embedding\"]\n",
    "    strings_and_relatednesses = [\n",
    "        (row[\"text\"], relatedness_fn(query_embedding, row[\"embedding\"]))\n",
    "        for i, row in df.iterrows()\n",
    "    ]\n",
    "    strings_and_relatednesses.sort(key=lambda x: x[1], reverse=True)\n",
    "    strings, relatednesses = zip(*strings_and_relatednesses)\n",
    "    return strings[:top_n], relatednesses[:top_n]"
   ]
  },
  {
   "cell_type": "code",
   "execution_count": 31,
   "id": "b8870b25",
   "metadata": {},
   "outputs": [],
   "source": [
    "# Search function using the vector index and DataFrame\n",
    "def strings_ranked_by_relatedness_vector(\n",
    "    query: str,\n",
    "    index: faiss.IndexFlatL2,\n",
    "    df: pd.DataFrame,\n",
    "    relatedness_fn=lambda x, y: 1 - spatial.cosine(x, y),\n",
    "    top_n: int = 5,\n",
    "    timeit: bool = False\n",
    ") -> tuple[list[str], list[float]]:\n",
    "    \"\"\"Returns a list of top_n strings and relatednesses, sorted from most related to least.\"\"\"\n",
    "    query_embedding_response = openai.Embedding.create(\n",
    "        model=EMBEDDING_MODEL,\n",
    "        input=query,\n",
    "    )\n",
    "    query_embedding = query_embedding_response[\"data\"][0][\"embedding\"]\n",
    "\n",
    "    # Start the timer\n",
    "    start_time = time.time()\n",
    "\n",
    "    # Perform similarity search using the vector database\n",
    "    _, indices = index.search(np.array([query_embedding]), top_n)\n",
    "    \n",
    "    strings = df.loc[indices[0], \"text\"].tolist()\n",
    "    embeddings = df.loc[indices[0], \"embedding\"].tolist()\n",
    "    relatednesses = [relatedness_fn(query_embedding, emb) for emb in embeddings]\n",
    "\n",
    "    # End the timer\n",
    "    end_time = time.time()\n",
    "\n",
    "    if timeit: \n",
    "        print(f'Elapsed time: {end_time - start_time} seconds')\n",
    "\n",
    "    return strings, relatednesses"
   ]
  },
  {
   "cell_type": "code",
   "execution_count": 43,
   "id": "e481eac1",
   "metadata": {},
   "outputs": [
    {
     "name": "stdout",
     "output_type": "stream",
     "text": [
      "relatedness=0.871\n"
     ]
    },
    {
     "data": {
      "text/plain": [
       "'Seadus TsMS paragrahv 113. Pealkiri: Lapsendamine Sisu: Lapsendamist käsitlev avaldus esitatakse lapsendatava elukoha järgi. Kui lapsendataval ei ole Eestis elukohta, esitatakse avaldus Harju Maakohtusse.'"
      ]
     },
     "metadata": {},
     "output_type": "display_data"
    },
    {
     "name": "stdout",
     "output_type": "stream",
     "text": [
      "relatedness=0.871\n"
     ]
    },
    {
     "data": {
      "text/plain": [
       "'Seadus TsMS paragrahv 113. Pealkiri: Lapsendamine Sisu: Lapsendamisasja võib lahendada Eesti kohus, kui lapsendaja, üks lapsendavatest abikaasadest või laps on Eesti Vabariigi kodanik või kui lapsendaja, ühe lapsendava abikaasa või lapse elukoht on Eestis.'"
      ]
     },
     "metadata": {},
     "output_type": "display_data"
    },
    {
     "name": "stdout",
     "output_type": "stream",
     "text": [
      "relatedness=0.868\n"
     ]
    },
    {
     "data": {
      "text/plain": [
       "'Seadus TsMS paragrahv 564. Pealkiri: Lapsendamise avaldus Sisu: Avaldaja märgib avalduses oma sünniaasta, -kuu ja -päeva, samuti asjaolud, mis kinnitavad, et ta on suuteline last kasvatama, tema eest hoolitsema ja teda ülal pidama.'"
      ]
     },
     "metadata": {},
     "output_type": "display_data"
    },
    {
     "name": "stdout",
     "output_type": "stream",
     "text": [
      "relatedness=0.866\n"
     ]
    },
    {
     "data": {
      "text/plain": [
       "'Seadus PKS paragrahv 158. Pealkiri: Lapsendamise ettevalmistamine Sisu: Kui Sotsiaalkindlustusamet seda nõuab, läbib lapsendada sooviv isik lapsendamisele eelnevalt asjakohase koolitusprogrammi.'"
      ]
     },
     "metadata": {},
     "output_type": "display_data"
    },
    {
     "name": "stdout",
     "output_type": "stream",
     "text": [
      "relatedness=0.865\n"
     ]
    },
    {
     "data": {
      "text/plain": [
       "'Seadus PKS paragrahv 147. Pealkiri: Lapsendamise lubatavus Sisu: Lapsendada on lubatud, kui see on lapse huvides vajalik ning on alust arvata, et lapsendaja ja lapse vahel tekib vanema ja lapse suhe. Lapsendajat valides arvestatakse tema isikuomadusi, suhteid lapsendatavaga, varalist seisundit ja võimet täita lapsendamissuhtest tulenevaid kohustusi, samuti võimaluse korral lapse vanemate eeldatavat tahet. Otsustamisel arvestatakse võimaluse korral ka lapse üleskasvatamise järjepidevuse vajadust ning tema rahvuslikku, usulist, kultuurilist ja keelelist päritolu.'"
      ]
     },
     "metadata": {},
     "output_type": "display_data"
    }
   ],
   "source": [
    "# examples\n",
    "strings, relatednesses = strings_ranked_by_relatedness(\"Lapsendamine\", df, top_n=5)\n",
    "for string, relatedness in zip(strings, relatednesses):\n",
    "    print(f\"{relatedness=:.3f}\")\n",
    "    display(string)\n"
   ]
  },
  {
   "cell_type": "code",
   "execution_count": 37,
   "id": "b1eb4bbc",
   "metadata": {},
   "outputs": [
    {
     "name": "stdout",
     "output_type": "stream",
     "text": [
      "relatedness=0.871\n"
     ]
    },
    {
     "data": {
      "text/plain": [
       "'Seadus TsMS paragrahv 113. Pealkiri: Lapsendamine Sisu: Lapsendamist käsitlev avaldus esitatakse lapsendatava elukoha järgi. Kui lapsendataval ei ole Eestis elukohta, esitatakse avaldus Harju Maakohtusse.'"
      ]
     },
     "metadata": {},
     "output_type": "display_data"
    },
    {
     "name": "stdout",
     "output_type": "stream",
     "text": [
      "relatedness=0.871\n"
     ]
    },
    {
     "data": {
      "text/plain": [
       "'Seadus TsMS paragrahv 113. Pealkiri: Lapsendamine Sisu: Lapsendamisasja võib lahendada Eesti kohus, kui lapsendaja, üks lapsendavatest abikaasadest või laps on Eesti Vabariigi kodanik või kui lapsendaja, ühe lapsendava abikaasa või lapse elukoht on Eestis.'"
      ]
     },
     "metadata": {},
     "output_type": "display_data"
    },
    {
     "name": "stdout",
     "output_type": "stream",
     "text": [
      "relatedness=0.868\n"
     ]
    },
    {
     "data": {
      "text/plain": [
       "'Seadus TsMS paragrahv 564. Pealkiri: Lapsendamise avaldus Sisu: Avaldaja märgib avalduses oma sünniaasta, -kuu ja -päeva, samuti asjaolud, mis kinnitavad, et ta on suuteline last kasvatama, tema eest hoolitsema ja teda ülal pidama.'"
      ]
     },
     "metadata": {},
     "output_type": "display_data"
    },
    {
     "name": "stdout",
     "output_type": "stream",
     "text": [
      "relatedness=0.866\n"
     ]
    },
    {
     "data": {
      "text/plain": [
       "'Seadus PKS paragrahv 158. Pealkiri: Lapsendamise ettevalmistamine Sisu: Kui Sotsiaalkindlustusamet seda nõuab, läbib lapsendada sooviv isik lapsendamisele eelnevalt asjakohase koolitusprogrammi.'"
      ]
     },
     "metadata": {},
     "output_type": "display_data"
    },
    {
     "name": "stdout",
     "output_type": "stream",
     "text": [
      "relatedness=0.865\n"
     ]
    },
    {
     "data": {
      "text/plain": [
       "'Seadus PKS paragrahv 147. Pealkiri: Lapsendamise lubatavus Sisu: Lapsendada on lubatud, kui see on lapse huvides vajalik ning on alust arvata, et lapsendaja ja lapse vahel tekib vanema ja lapse suhe. Lapsendajat valides arvestatakse tema isikuomadusi, suhteid lapsendatavaga, varalist seisundit ja võimet täita lapsendamissuhtest tulenevaid kohustusi, samuti võimaluse korral lapse vanemate eeldatavat tahet. Otsustamisel arvestatakse võimaluse korral ka lapse üleskasvatamise järjepidevuse vajadust ning tema rahvuslikku, usulist, kultuurilist ja keelelist päritolu.'"
      ]
     },
     "metadata": {},
     "output_type": "display_data"
    }
   ],
   "source": [
    "strings, relatednesses = strings_ranked_by_relatedness_vector(\"Lapsendamine\",index,df)\n",
    "for string, relatedness in zip(strings, relatednesses):\n",
    "    print(f\"{relatedness=:.3f}\")\n",
    "    display(string)"
   ]
  },
  {
   "cell_type": "code",
   "execution_count": 46,
   "id": "669f548a",
   "metadata": {},
   "outputs": [],
   "source": [
    "def num_tokens(text: str, model: str = GPT_MODEL) -> int:\n",
    "    \"\"\"Return the number of tokens in a string.\"\"\"\n",
    "    encoding = tiktoken.encoding_for_model(model)\n",
    "    return len(encoding.encode(text))\n",
    "\n",
    "\n",
    "def query_message(\n",
    "    query: str,\n",
    "    df: pd.DataFrame,\n",
    "    model: str,\n",
    "    token_budget: int\n",
    ") -> str:\n",
    "    \"\"\"Return a message for GPT, with relevant source texts pulled from a dataframe.\"\"\"\n",
    "    strings, relatednesses = strings_ranked_by_relatedness_vector(query, index,df)\n",
    "    introduction = 'Use the following part of the law to answer the subsequent question. Try to find the best answer.' \\\n",
    "    'Formulate the answer including the law name and paragraph number'\\\n",
    "    'The answer should be a coherent sentence. If the answer cannot be found in the laws, write \"Ma ei leidnud seadustest vastust\"'\n",
    "    question = f\"\\n\\nQuestion: {query}\"\n",
    "    message = introduction\n",
    "    for string in strings:\n",
    "        next_article = f'\\n\\n\"\"\"\\n{string}\\n\"\"\"'\n",
    "        if (\n",
    "            num_tokens(message + next_article + question, model=model)\n",
    "            > token_budget\n",
    "        ):\n",
    "            break\n",
    "        else:\n",
    "            message += next_article\n",
    "    return message + question\n",
    "\n",
    "\n",
    "def ask(\n",
    "    query: str,\n",
    "    df: pd.DataFrame = df,\n",
    "    model: str = GPT_MODEL,\n",
    "    token_budget: int = 4096 - 500,\n",
    "    print_message: bool = False,\n",
    ") -> str:\n",
    "    \"\"\"Answers a query using GPT and a dataframe of relevant texts and embeddings.\"\"\"\n",
    "    message = query_message(query, df, model=model, token_budget=token_budget)\n",
    "    if print_message:\n",
    "        print(message)\n",
    "    messages = [\n",
    "        {\"role\": \"system\", \"content\": \"Sa vastad Eesti seaduste andmebaasi küsimustele.\"},\n",
    "        {\"role\": \"user\", \"content\": message},\n",
    "    ]\n",
    "    response = openai.ChatCompletion.create(\n",
    "        model=model,\n",
    "        messages=messages,\n",
    "        temperature=0\n",
    "    )\n",
    "    response_message = response[\"choices\"][0][\"message\"][\"content\"]\n",
    "    return response_message"
   ]
  },
  {
   "cell_type": "code",
   "execution_count": 47,
   "id": "92a144de",
   "metadata": {},
   "outputs": [
    {
     "data": {
      "text/plain": [
       "'Seadus VVS paragrahv 6 kohaselt astub Vabariigi Valitsus või minister ametisse ametivande andmisega Riigikogu ees.'"
      ]
     },
     "execution_count": 47,
     "metadata": {},
     "output_type": "execute_result"
    }
   ],
   "source": [
    "ask(\"Kuidas astub minister ametisse?\")"
   ]
  },
  {
   "cell_type": "code",
   "execution_count": null,
   "id": "590d92c8",
   "metadata": {},
   "outputs": [],
   "source": []
  }
 ],
 "metadata": {
  "kernelspec": {
   "display_name": "Python 3 (ipykernel)",
   "language": "python",
   "name": "python3"
  },
  "language_info": {
   "codemirror_mode": {
    "name": "ipython",
    "version": 3
   },
   "file_extension": ".py",
   "mimetype": "text/x-python",
   "name": "python",
   "nbconvert_exporter": "python",
   "pygments_lexer": "ipython3",
   "version": "3.10.9"
  }
 },
 "nbformat": 4,
 "nbformat_minor": 5
}
